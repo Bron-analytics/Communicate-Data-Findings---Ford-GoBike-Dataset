{
 "cells": [
  {
   "cell_type": "markdown",
   "metadata": {},
   "source": [
    "# Communicate Data Findings - Ford GoBike System Data\n",
    "### by Oyebade James\n",
    "\n",
    "\n",
    "## Table of Contents\n",
    "- [Preliminary Wrangling](#wrangle)\n",
    "- [Introduction](#intro)\n",
    "- [Univariate Exploration](#univariate)\n",
    "- [Bivariate Exploration](#bivariate)\n",
    "- [Multivariate Exploration](#multivariate)\n",
    "- [Summary](#summary)\n",
    "- [References](#references)"
   ]
  },
  {
   "cell_type": "markdown",
   "metadata": {},
   "source": [
    "## Preliminary Wrangling\n",
    "\n",
    "### Introduction\n",
    "This data set includes information about individual rides made in a bike-sharing system covering the greater San Francisco Bay area. Ford GoBike, the San Francisco Bay Area's new regional bike share network, is a public-private partnership between the Metropolitan Transportation Commission (MTC) and Motivate. Motivate, the global leader in bike share, operates tens of thousands of bikes across four continents. Bay Area Bike Share was introduced in 2013 as a pilot program for the region, with 700 bikes and 70 stations across San Francisco and San Jose. In June 2017 the system was officially re-launched as Ford GoBike in a partnership with Ford Motor Company. After Motivate's acquisition by Lyft, the system was renamed to Bay Wheels in June 2019. When completed in 2018, the Bay Area’s 7,000-bike, 546-station Ford GoBike network will be the second-largest bike share system in North America, while setting new national standards in density, convenience and socio-economic equity. Biking is one of the least expensive and most environmentally friendly transportation options available today. In many cases, biking also cuts commute time. Bike share is one of the many ways cities can help increase mobility as well as meet sustainability goals, without increasing traffic and congestion. Ford Motor Company is the program's title partner, whose support enables Ford GoBike to bring the myriad public benefits of state-of-the-art bike share to San Francisco, San Jose, Oakland, Berkeley and Emeryville — at no cost to taxpayers for capital or operational expenditures.\n",
    "\n",
    "\n",
    "This project has two parts that demonstrate the importance and value of data visualization techniques in the data analysis process. In the first part, I will be using Python visualization libraries to systematically explore a selected dataset, starting from plots of single variables and building up to plots of multiple variables. In the second part, I will be producing a short presentation that illustrates interesting properties, trends, and relationships that I discovered in this dataset. The primary method of conveying my findings will be through transforming my exploratory visualizations from the first part into polished, explanatory visualizations.\n"
   ]
  },
  {
   "cell_type": "code",
   "execution_count": 1,
   "metadata": {},
   "outputs": [],
   "source": [
    "# import all packages and set plots to be embedded inline\n",
    "import numpy as np\n",
    "import pandas as pd\n",
    "import matplotlib.pyplot as plt\n",
    "import seaborn as sb\n",
    "\n",
    "%matplotlib inline"
   ]
  },
  {
   "cell_type": "code",
   "execution_count": 2,
   "metadata": {},
   "outputs": [],
   "source": [
    "# load ford gobike system data\n",
    "df = pd.read_csv('201902-fordgobike-tripdata.csv')"
   ]
  },
  {
   "cell_type": "code",
   "execution_count": 3,
   "metadata": {},
   "outputs": [
    {
     "data": {
      "text/html": [
       "<div>\n",
       "<style scoped>\n",
       "    .dataframe tbody tr th:only-of-type {\n",
       "        vertical-align: middle;\n",
       "    }\n",
       "\n",
       "    .dataframe tbody tr th {\n",
       "        vertical-align: top;\n",
       "    }\n",
       "\n",
       "    .dataframe thead th {\n",
       "        text-align: right;\n",
       "    }\n",
       "</style>\n",
       "<table border=\"1\" class=\"dataframe\">\n",
       "  <thead>\n",
       "    <tr style=\"text-align: right;\">\n",
       "      <th></th>\n",
       "      <th>duration_sec</th>\n",
       "      <th>start_time</th>\n",
       "      <th>end_time</th>\n",
       "      <th>start_station_id</th>\n",
       "      <th>start_station_name</th>\n",
       "      <th>start_station_latitude</th>\n",
       "      <th>start_station_longitude</th>\n",
       "      <th>end_station_id</th>\n",
       "      <th>end_station_name</th>\n",
       "      <th>end_station_latitude</th>\n",
       "      <th>end_station_longitude</th>\n",
       "      <th>bike_id</th>\n",
       "      <th>user_type</th>\n",
       "      <th>member_birth_year</th>\n",
       "      <th>member_gender</th>\n",
       "      <th>bike_share_for_all_trip</th>\n",
       "    </tr>\n",
       "  </thead>\n",
       "  <tbody>\n",
       "    <tr>\n",
       "      <th>0</th>\n",
       "      <td>52185</td>\n",
       "      <td>2019-02-28 17:32:10.1450</td>\n",
       "      <td>2019-03-01 08:01:55.9750</td>\n",
       "      <td>21.0</td>\n",
       "      <td>Montgomery St BART Station (Market St at 2nd St)</td>\n",
       "      <td>37.789625</td>\n",
       "      <td>-122.400811</td>\n",
       "      <td>13.0</td>\n",
       "      <td>Commercial St at Montgomery St</td>\n",
       "      <td>37.794231</td>\n",
       "      <td>-122.402923</td>\n",
       "      <td>4902</td>\n",
       "      <td>Customer</td>\n",
       "      <td>1984.0</td>\n",
       "      <td>Male</td>\n",
       "      <td>No</td>\n",
       "    </tr>\n",
       "    <tr>\n",
       "      <th>1</th>\n",
       "      <td>42521</td>\n",
       "      <td>2019-02-28 18:53:21.7890</td>\n",
       "      <td>2019-03-01 06:42:03.0560</td>\n",
       "      <td>23.0</td>\n",
       "      <td>The Embarcadero at Steuart St</td>\n",
       "      <td>37.791464</td>\n",
       "      <td>-122.391034</td>\n",
       "      <td>81.0</td>\n",
       "      <td>Berry St at 4th St</td>\n",
       "      <td>37.775880</td>\n",
       "      <td>-122.393170</td>\n",
       "      <td>2535</td>\n",
       "      <td>Customer</td>\n",
       "      <td>NaN</td>\n",
       "      <td>NaN</td>\n",
       "      <td>No</td>\n",
       "    </tr>\n",
       "    <tr>\n",
       "      <th>2</th>\n",
       "      <td>61854</td>\n",
       "      <td>2019-02-28 12:13:13.2180</td>\n",
       "      <td>2019-03-01 05:24:08.1460</td>\n",
       "      <td>86.0</td>\n",
       "      <td>Market St at Dolores St</td>\n",
       "      <td>37.769305</td>\n",
       "      <td>-122.426826</td>\n",
       "      <td>3.0</td>\n",
       "      <td>Powell St BART Station (Market St at 4th St)</td>\n",
       "      <td>37.786375</td>\n",
       "      <td>-122.404904</td>\n",
       "      <td>5905</td>\n",
       "      <td>Customer</td>\n",
       "      <td>1972.0</td>\n",
       "      <td>Male</td>\n",
       "      <td>No</td>\n",
       "    </tr>\n",
       "    <tr>\n",
       "      <th>3</th>\n",
       "      <td>36490</td>\n",
       "      <td>2019-02-28 17:54:26.0100</td>\n",
       "      <td>2019-03-01 04:02:36.8420</td>\n",
       "      <td>375.0</td>\n",
       "      <td>Grove St at Masonic Ave</td>\n",
       "      <td>37.774836</td>\n",
       "      <td>-122.446546</td>\n",
       "      <td>70.0</td>\n",
       "      <td>Central Ave at Fell St</td>\n",
       "      <td>37.773311</td>\n",
       "      <td>-122.444293</td>\n",
       "      <td>6638</td>\n",
       "      <td>Subscriber</td>\n",
       "      <td>1989.0</td>\n",
       "      <td>Other</td>\n",
       "      <td>No</td>\n",
       "    </tr>\n",
       "    <tr>\n",
       "      <th>4</th>\n",
       "      <td>1585</td>\n",
       "      <td>2019-02-28 23:54:18.5490</td>\n",
       "      <td>2019-03-01 00:20:44.0740</td>\n",
       "      <td>7.0</td>\n",
       "      <td>Frank H Ogawa Plaza</td>\n",
       "      <td>37.804562</td>\n",
       "      <td>-122.271738</td>\n",
       "      <td>222.0</td>\n",
       "      <td>10th Ave at E 15th St</td>\n",
       "      <td>37.792714</td>\n",
       "      <td>-122.248780</td>\n",
       "      <td>4898</td>\n",
       "      <td>Subscriber</td>\n",
       "      <td>1974.0</td>\n",
       "      <td>Male</td>\n",
       "      <td>Yes</td>\n",
       "    </tr>\n",
       "  </tbody>\n",
       "</table>\n",
       "</div>"
      ],
      "text/plain": [
       "   duration_sec                start_time                  end_time  \\\n",
       "0         52185  2019-02-28 17:32:10.1450  2019-03-01 08:01:55.9750   \n",
       "1         42521  2019-02-28 18:53:21.7890  2019-03-01 06:42:03.0560   \n",
       "2         61854  2019-02-28 12:13:13.2180  2019-03-01 05:24:08.1460   \n",
       "3         36490  2019-02-28 17:54:26.0100  2019-03-01 04:02:36.8420   \n",
       "4          1585  2019-02-28 23:54:18.5490  2019-03-01 00:20:44.0740   \n",
       "\n",
       "   start_station_id                                start_station_name  \\\n",
       "0              21.0  Montgomery St BART Station (Market St at 2nd St)   \n",
       "1              23.0                     The Embarcadero at Steuart St   \n",
       "2              86.0                           Market St at Dolores St   \n",
       "3             375.0                           Grove St at Masonic Ave   \n",
       "4               7.0                               Frank H Ogawa Plaza   \n",
       "\n",
       "   start_station_latitude  start_station_longitude  end_station_id  \\\n",
       "0               37.789625              -122.400811            13.0   \n",
       "1               37.791464              -122.391034            81.0   \n",
       "2               37.769305              -122.426826             3.0   \n",
       "3               37.774836              -122.446546            70.0   \n",
       "4               37.804562              -122.271738           222.0   \n",
       "\n",
       "                               end_station_name  end_station_latitude  \\\n",
       "0                Commercial St at Montgomery St             37.794231   \n",
       "1                            Berry St at 4th St             37.775880   \n",
       "2  Powell St BART Station (Market St at 4th St)             37.786375   \n",
       "3                        Central Ave at Fell St             37.773311   \n",
       "4                         10th Ave at E 15th St             37.792714   \n",
       "\n",
       "   end_station_longitude  bike_id   user_type  member_birth_year  \\\n",
       "0            -122.402923     4902    Customer             1984.0   \n",
       "1            -122.393170     2535    Customer                NaN   \n",
       "2            -122.404904     5905    Customer             1972.0   \n",
       "3            -122.444293     6638  Subscriber             1989.0   \n",
       "4            -122.248780     4898  Subscriber             1974.0   \n",
       "\n",
       "  member_gender bike_share_for_all_trip  \n",
       "0          Male                      No  \n",
       "1           NaN                      No  \n",
       "2          Male                      No  \n",
       "3         Other                      No  \n",
       "4          Male                     Yes  "
      ]
     },
     "execution_count": 3,
     "metadata": {},
     "output_type": "execute_result"
    }
   ],
   "source": [
    "# check the first 5 rows\n",
    "df.head()"
   ]
  },
  {
   "cell_type": "code",
   "execution_count": 4,
   "metadata": {},
   "outputs": [
    {
     "data": {
      "text/html": [
       "<div>\n",
       "<style scoped>\n",
       "    .dataframe tbody tr th:only-of-type {\n",
       "        vertical-align: middle;\n",
       "    }\n",
       "\n",
       "    .dataframe tbody tr th {\n",
       "        vertical-align: top;\n",
       "    }\n",
       "\n",
       "    .dataframe thead th {\n",
       "        text-align: right;\n",
       "    }\n",
       "</style>\n",
       "<table border=\"1\" class=\"dataframe\">\n",
       "  <thead>\n",
       "    <tr style=\"text-align: right;\">\n",
       "      <th></th>\n",
       "      <th>duration_sec</th>\n",
       "      <th>start_station_id</th>\n",
       "      <th>start_station_latitude</th>\n",
       "      <th>start_station_longitude</th>\n",
       "      <th>end_station_id</th>\n",
       "      <th>end_station_latitude</th>\n",
       "      <th>end_station_longitude</th>\n",
       "      <th>bike_id</th>\n",
       "      <th>member_birth_year</th>\n",
       "    </tr>\n",
       "  </thead>\n",
       "  <tbody>\n",
       "    <tr>\n",
       "      <th>count</th>\n",
       "      <td>183412.000000</td>\n",
       "      <td>183215.000000</td>\n",
       "      <td>183412.000000</td>\n",
       "      <td>183412.000000</td>\n",
       "      <td>183215.000000</td>\n",
       "      <td>183412.000000</td>\n",
       "      <td>183412.000000</td>\n",
       "      <td>183412.000000</td>\n",
       "      <td>175147.000000</td>\n",
       "    </tr>\n",
       "    <tr>\n",
       "      <th>mean</th>\n",
       "      <td>726.078435</td>\n",
       "      <td>138.590427</td>\n",
       "      <td>37.771223</td>\n",
       "      <td>-122.352664</td>\n",
       "      <td>136.249123</td>\n",
       "      <td>37.771427</td>\n",
       "      <td>-122.352250</td>\n",
       "      <td>4472.906375</td>\n",
       "      <td>1984.806437</td>\n",
       "    </tr>\n",
       "    <tr>\n",
       "      <th>std</th>\n",
       "      <td>1794.389780</td>\n",
       "      <td>111.778864</td>\n",
       "      <td>0.099581</td>\n",
       "      <td>0.117097</td>\n",
       "      <td>111.515131</td>\n",
       "      <td>0.099490</td>\n",
       "      <td>0.116673</td>\n",
       "      <td>1664.383394</td>\n",
       "      <td>10.116689</td>\n",
       "    </tr>\n",
       "    <tr>\n",
       "      <th>min</th>\n",
       "      <td>61.000000</td>\n",
       "      <td>3.000000</td>\n",
       "      <td>37.317298</td>\n",
       "      <td>-122.453704</td>\n",
       "      <td>3.000000</td>\n",
       "      <td>37.317298</td>\n",
       "      <td>-122.453704</td>\n",
       "      <td>11.000000</td>\n",
       "      <td>1878.000000</td>\n",
       "    </tr>\n",
       "    <tr>\n",
       "      <th>25%</th>\n",
       "      <td>325.000000</td>\n",
       "      <td>47.000000</td>\n",
       "      <td>37.770083</td>\n",
       "      <td>-122.412408</td>\n",
       "      <td>44.000000</td>\n",
       "      <td>37.770407</td>\n",
       "      <td>-122.411726</td>\n",
       "      <td>3777.000000</td>\n",
       "      <td>1980.000000</td>\n",
       "    </tr>\n",
       "    <tr>\n",
       "      <th>50%</th>\n",
       "      <td>514.000000</td>\n",
       "      <td>104.000000</td>\n",
       "      <td>37.780760</td>\n",
       "      <td>-122.398285</td>\n",
       "      <td>100.000000</td>\n",
       "      <td>37.781010</td>\n",
       "      <td>-122.398279</td>\n",
       "      <td>4958.000000</td>\n",
       "      <td>1987.000000</td>\n",
       "    </tr>\n",
       "    <tr>\n",
       "      <th>75%</th>\n",
       "      <td>796.000000</td>\n",
       "      <td>239.000000</td>\n",
       "      <td>37.797280</td>\n",
       "      <td>-122.286533</td>\n",
       "      <td>235.000000</td>\n",
       "      <td>37.797320</td>\n",
       "      <td>-122.288045</td>\n",
       "      <td>5502.000000</td>\n",
       "      <td>1992.000000</td>\n",
       "    </tr>\n",
       "    <tr>\n",
       "      <th>max</th>\n",
       "      <td>85444.000000</td>\n",
       "      <td>398.000000</td>\n",
       "      <td>37.880222</td>\n",
       "      <td>-121.874119</td>\n",
       "      <td>398.000000</td>\n",
       "      <td>37.880222</td>\n",
       "      <td>-121.874119</td>\n",
       "      <td>6645.000000</td>\n",
       "      <td>2001.000000</td>\n",
       "    </tr>\n",
       "  </tbody>\n",
       "</table>\n",
       "</div>"
      ],
      "text/plain": [
       "        duration_sec  start_station_id  start_station_latitude  \\\n",
       "count  183412.000000     183215.000000           183412.000000   \n",
       "mean      726.078435        138.590427               37.771223   \n",
       "std      1794.389780        111.778864                0.099581   \n",
       "min        61.000000          3.000000               37.317298   \n",
       "25%       325.000000         47.000000               37.770083   \n",
       "50%       514.000000        104.000000               37.780760   \n",
       "75%       796.000000        239.000000               37.797280   \n",
       "max     85444.000000        398.000000               37.880222   \n",
       "\n",
       "       start_station_longitude  end_station_id  end_station_latitude  \\\n",
       "count            183412.000000   183215.000000         183412.000000   \n",
       "mean               -122.352664      136.249123             37.771427   \n",
       "std                   0.117097      111.515131              0.099490   \n",
       "min                -122.453704        3.000000             37.317298   \n",
       "25%                -122.412408       44.000000             37.770407   \n",
       "50%                -122.398285      100.000000             37.781010   \n",
       "75%                -122.286533      235.000000             37.797320   \n",
       "max                -121.874119      398.000000             37.880222   \n",
       "\n",
       "       end_station_longitude        bike_id  member_birth_year  \n",
       "count          183412.000000  183412.000000      175147.000000  \n",
       "mean             -122.352250    4472.906375        1984.806437  \n",
       "std                 0.116673    1664.383394          10.116689  \n",
       "min              -122.453704      11.000000        1878.000000  \n",
       "25%              -122.411726    3777.000000        1980.000000  \n",
       "50%              -122.398279    4958.000000        1987.000000  \n",
       "75%              -122.288045    5502.000000        1992.000000  \n",
       "max              -121.874119    6645.000000        2001.000000  "
      ]
     },
     "execution_count": 4,
     "metadata": {},
     "output_type": "execute_result"
    }
   ],
   "source": [
    "# check the statistic description of the dataset\n",
    "df.describe()"
   ]
  },
  {
   "cell_type": "code",
   "execution_count": 5,
   "metadata": {},
   "outputs": [
    {
     "name": "stdout",
     "output_type": "stream",
     "text": [
      "<class 'pandas.core.frame.DataFrame'>\n",
      "RangeIndex: 183412 entries, 0 to 183411\n",
      "Data columns (total 16 columns):\n",
      "duration_sec               183412 non-null int64\n",
      "start_time                 183412 non-null object\n",
      "end_time                   183412 non-null object\n",
      "start_station_id           183215 non-null float64\n",
      "start_station_name         183215 non-null object\n",
      "start_station_latitude     183412 non-null float64\n",
      "start_station_longitude    183412 non-null float64\n",
      "end_station_id             183215 non-null float64\n",
      "end_station_name           183215 non-null object\n",
      "end_station_latitude       183412 non-null float64\n",
      "end_station_longitude      183412 non-null float64\n",
      "bike_id                    183412 non-null int64\n",
      "user_type                  183412 non-null object\n",
      "member_birth_year          175147 non-null float64\n",
      "member_gender              175147 non-null object\n",
      "bike_share_for_all_trip    183412 non-null object\n",
      "dtypes: float64(7), int64(2), object(7)\n",
      "memory usage: 22.4+ MB\n"
     ]
    }
   ],
   "source": [
    "df.info()"
   ]
  },
  {
   "cell_type": "code",
   "execution_count": 6,
   "metadata": {},
   "outputs": [
    {
     "name": "stdout",
     "output_type": "stream",
     "text": [
      "(183412, 16)\n",
      "duration_sec                 int64\n",
      "start_time                  object\n",
      "end_time                    object\n",
      "start_station_id           float64\n",
      "start_station_name          object\n",
      "start_station_latitude     float64\n",
      "start_station_longitude    float64\n",
      "end_station_id             float64\n",
      "end_station_name            object\n",
      "end_station_latitude       float64\n",
      "end_station_longitude      float64\n",
      "bike_id                      int64\n",
      "user_type                   object\n",
      "member_birth_year          float64\n",
      "member_gender               object\n",
      "bike_share_for_all_trip     object\n",
      "dtype: object\n"
     ]
    }
   ],
   "source": [
    "# high-level overview of data shape and composition\n",
    "print(df.shape)\n",
    "print(df.dtypes)"
   ]
  },
  {
   "cell_type": "markdown",
   "metadata": {},
   "source": [
    "#### Assess"
   ]
  },
  {
   "cell_type": "code",
   "execution_count": 7,
   "metadata": {},
   "outputs": [
    {
     "data": {
      "text/plain": [
       "0"
      ]
     },
     "execution_count": 7,
     "metadata": {},
     "output_type": "execute_result"
    }
   ],
   "source": [
    "# check for duplicates\n",
    "sum(df.duplicated())"
   ]
  },
  {
   "cell_type": "code",
   "execution_count": 8,
   "metadata": {},
   "outputs": [
    {
     "data": {
      "text/plain": [
       "duration_sec                 4752\n",
       "start_time                 183401\n",
       "end_time                   183397\n",
       "start_station_id              329\n",
       "start_station_name            329\n",
       "start_station_latitude        334\n",
       "start_station_longitude       335\n",
       "end_station_id                329\n",
       "end_station_name              329\n",
       "end_station_latitude          335\n",
       "end_station_longitude         335\n",
       "bike_id                      4646\n",
       "user_type                       2\n",
       "member_birth_year              75\n",
       "member_gender                   3\n",
       "bike_share_for_all_trip         2\n",
       "dtype: int64"
      ]
     },
     "execution_count": 8,
     "metadata": {},
     "output_type": "execute_result"
    }
   ],
   "source": [
    "# unique values in the dataset\n",
    "df.nunique()"
   ]
  },
  {
   "cell_type": "markdown",
   "metadata": {},
   "source": [
    "**user_type**, **member_gender** and **bike_share_for_all_trip** have 2, 3 and 2 unique values respectively. Therefore, they are categorical data types. "
   ]
  },
  {
   "cell_type": "code",
   "execution_count": 9,
   "metadata": {},
   "outputs": [
    {
     "data": {
      "text/plain": [
       "1988.0    10236\n",
       "1993.0     9325\n",
       "1989.0     8972\n",
       "1990.0     8658\n",
       "1991.0     8498\n",
       "1992.0     8250\n",
       "1987.0     8018\n",
       "1986.0     7973\n",
       "1994.0     7660\n",
       "1995.0     7423\n",
       "1985.0     7028\n",
       "1984.0     6562\n",
       "1983.0     5954\n",
       "1980.0     5024\n",
       "1982.0     4990\n",
       "1996.0     4640\n",
       "1981.0     4345\n",
       "1979.0     3756\n",
       "1997.0     3481\n",
       "1998.0     3208\n",
       "1978.0     2830\n",
       "1977.0     2725\n",
       "1974.0     2633\n",
       "1999.0     2528\n",
       "1975.0     2503\n",
       "1976.0     2442\n",
       "1973.0     2080\n",
       "1968.0     1928\n",
       "1971.0     1924\n",
       "1972.0     1909\n",
       "          ...  \n",
       "1954.0      301\n",
       "1952.0      189\n",
       "1951.0      180\n",
       "1950.0      178\n",
       "1953.0      158\n",
       "1947.0      135\n",
       "1955.0      134\n",
       "1945.0      105\n",
       "1949.0       99\n",
       "1931.0       89\n",
       "1900.0       53\n",
       "1948.0       51\n",
       "2001.0       34\n",
       "1943.0       30\n",
       "1942.0       21\n",
       "1933.0       20\n",
       "1946.0       19\n",
       "1902.0       11\n",
       "1939.0       11\n",
       "1941.0        9\n",
       "1901.0        6\n",
       "1938.0        3\n",
       "1920.0        3\n",
       "1934.0        2\n",
       "1944.0        2\n",
       "1930.0        1\n",
       "1910.0        1\n",
       "1927.0        1\n",
       "1928.0        1\n",
       "1878.0        1\n",
       "Name: member_birth_year, Length: 75, dtype: int64"
      ]
     },
     "execution_count": 9,
     "metadata": {},
     "output_type": "execute_result"
    }
   ],
   "source": [
    "df.member_birth_year.value_counts()"
   ]
  },
  {
   "cell_type": "code",
   "execution_count": 10,
   "metadata": {},
   "outputs": [
    {
     "data": {
      "text/plain": [
       "duration_sec                  0\n",
       "start_time                    0\n",
       "end_time                      0\n",
       "start_station_id            197\n",
       "start_station_name          197\n",
       "start_station_latitude        0\n",
       "start_station_longitude       0\n",
       "end_station_id              197\n",
       "end_station_name            197\n",
       "end_station_latitude          0\n",
       "end_station_longitude         0\n",
       "bike_id                       0\n",
       "user_type                     0\n",
       "member_birth_year          8265\n",
       "member_gender              8265\n",
       "bike_share_for_all_trip       0\n",
       "dtype: int64"
      ]
     },
     "execution_count": 10,
     "metadata": {},
     "output_type": "execute_result"
    }
   ],
   "source": [
    "# check missing values\n",
    "df.isnull().sum()"
   ]
  },
  {
   "cell_type": "code",
   "execution_count": 11,
   "metadata": {},
   "outputs": [
    {
     "data": {
      "text/plain": [
       "True"
      ]
     },
     "execution_count": 11,
     "metadata": {},
     "output_type": "execute_result"
    }
   ],
   "source": [
    "# check if any of the columns have null values\n",
    "df.isnull().sum().any()"
   ]
  },
  {
   "cell_type": "code",
   "execution_count": 12,
   "metadata": {},
   "outputs": [
    {
     "data": {
      "text/plain": [
       "Market St at 10th St                                               3904\n",
       "San Francisco Caltrain Station 2  (Townsend St at 4th St)          3544\n",
       "Berry St at 4th St                                                 3052\n",
       "Montgomery St BART Station (Market St at 2nd St)                   2895\n",
       "Powell St BART Station (Market St at 4th St)                       2760\n",
       "San Francisco Ferry Building (Harry Bridges Plaza)                 2710\n",
       "San Francisco Caltrain (Townsend St at 4th St)                     2703\n",
       "Powell St BART Station (Market St at 5th St)                       2327\n",
       "Howard St at Beale St                                              2293\n",
       "Steuart St at Market St                                            2283\n",
       "The Embarcadero at Sansome St                                      2082\n",
       "Bancroft Way at Telegraph Ave                                      1796\n",
       "Bancroft Way at College Ave                                        1770\n",
       "2nd St at Townsend St                                              1765\n",
       "3rd St at Townsend St                                              1753\n",
       "Embarcadero BART Station (Beale St at Market St)                   1746\n",
       "Beale St at Harrison St                                            1719\n",
       "Civic Center/UN Plaza BART Station (Market St at McAllister St)    1611\n",
       "Townsend St at 7th St                                              1573\n",
       "4th St at Mission Bay Blvd S                                       1552\n",
       "The Embarcadero at Steuart St                                      1458\n",
       "Post St at Kearny St                                               1376\n",
       "Downtown Berkeley BART                                             1375\n",
       "4th St at 16th St                                                  1360\n",
       "Howard St at 8th St                                                1314\n",
       "Rhode Island St at 17th St                                         1303\n",
       "Esprit Park                                                        1290\n",
       "19th Street BART Station                                           1276\n",
       "8th St at Brannan St                                               1203\n",
       "Hearst Ave at Euclid Ave                                           1203\n",
       "                                                                   ... \n",
       "Mendell St at Fairfax Ave                                            57\n",
       "27th St at MLK Jr Way                                                55\n",
       "45th St at MLK Jr Way                                                55\n",
       "San Antonio Park                                                     53\n",
       "Williams Ave at 3rd St                                               50\n",
       "Delmas Ave and San Fernando St                                       50\n",
       "Locust St at Grant St                                                49\n",
       "San Carlos St at Market St                                           48\n",
       "Lane St at Revere Ave                                                36\n",
       "Foothill Blvd at Harrington Ave                                      35\n",
       "Almaden Blvd at Balbach St                                           34\n",
       "Mission St at 1st St                                                 34\n",
       "SAP Center                                                           32\n",
       "George St at 1st St                                                  31\n",
       "Oak St at 1st St                                                     30\n",
       "Empire St at 7th St                                                  29\n",
       "Williams Ave at Apollo St                                            25\n",
       "Foothill Blvd at 42nd Ave                                            23\n",
       "26th Ave at International Blvd                                       19\n",
       "San Pedro St at Hedding St                                           19\n",
       "Farnam St at Fruitvale Ave                                           18\n",
       "23rd Ave at Foothill Blvd                                            18\n",
       "Backesto Park (Jackson St at 13th St)                                17\n",
       "Leavenworth St at Broadway                                           17\n",
       "Taylor St at 9th St                                                  13\n",
       "Willow St at Vine St                                                  9\n",
       "Parker Ave at McAllister St                                           7\n",
       "Palm St at Willow St                                                  4\n",
       "21st Ave at International Blvd                                        4\n",
       "16th St Depot                                                         2\n",
       "Name: start_station_name, Length: 329, dtype: int64"
      ]
     },
     "execution_count": 12,
     "metadata": {},
     "output_type": "execute_result"
    }
   ],
   "source": [
    "df.start_station_name.value_counts()"
   ]
  },
  {
   "cell_type": "code",
   "execution_count": 13,
   "metadata": {},
   "outputs": [
    {
     "data": {
      "text/plain": [
       "San Francisco Caltrain Station 2  (Townsend St at 4th St)          4857\n",
       "Market St at 10th St                                               3973\n",
       "Montgomery St BART Station (Market St at 2nd St)                   3647\n",
       "San Francisco Ferry Building (Harry Bridges Plaza)                 3368\n",
       "Powell St BART Station (Market St at 4th St)                       2997\n",
       "San Francisco Caltrain (Townsend St at 4th St)                     2947\n",
       "Berry St at 4th St                                                 2872\n",
       "The Embarcadero at Sansome St                                      2512\n",
       "Powell St BART Station (Market St at 5th St)                       2353\n",
       "Steuart St at Market St                                            2338\n",
       "Howard St at Beale St                                              2034\n",
       "Civic Center/UN Plaza BART Station (Market St at McAllister St)    1865\n",
       "Bancroft Way at Telegraph Ave                                      1814\n",
       "Beale St at Harrison St                                            1812\n",
       "2nd St at Townsend St                                              1741\n",
       "3rd St at Townsend St                                              1700\n",
       "Embarcadero BART Station (Beale St at Market St)                   1699\n",
       "4th St at Mission Bay Blvd S                                       1626\n",
       "Townsend St at 7th St                                              1540\n",
       "The Embarcadero at Steuart St                                      1447\n",
       "19th Street BART Station                                           1430\n",
       "Post St at Kearny St                                               1422\n",
       "Downtown Berkeley BART                                             1380\n",
       "Rhode Island St at 17th St                                         1345\n",
       "8th St at Brannan St                                               1331\n",
       "Folsom St at 3rd St                                                1302\n",
       "Howard St at 8th St                                                1284\n",
       "Esprit Park                                                        1266\n",
       "4th St at 16th St                                                  1208\n",
       "Spear St at Folsom St                                              1164\n",
       "                                                                   ... \n",
       "San Carlos St at Market St                                           52\n",
       "Williams Ave at 3rd St                                               51\n",
       "Market St at 40th St                                                 49\n",
       "27th St at MLK Jr Way                                                49\n",
       "Empire St at 1st St                                                  47\n",
       "Lane St at Revere Ave                                                46\n",
       "Locust St at Grant St                                                45\n",
       "SAP Center                                                           42\n",
       "Almaden Blvd at Balbach St                                           38\n",
       "Bestor Art Park                                                      38\n",
       "10th Ave at E 15th St                                                37\n",
       "George St at 1st St                                                  34\n",
       "San Pedro St at Hedding St                                           30\n",
       "Empire St at 7th St                                                  28\n",
       "Oak St at 1st St                                                     28\n",
       "Mission St at 1st St                                                 25\n",
       "Backesto Park (Jackson St at 13th St)                                21\n",
       "Farnam St at Fruitvale Ave                                           20\n",
       "Foothill Blvd at 42nd Ave                                            20\n",
       "23rd Ave at Foothill Blvd                                            20\n",
       "Williams Ave at Apollo St                                            20\n",
       "26th Ave at International Blvd                                       19\n",
       "Foothill Blvd at Harrington Ave                                      16\n",
       "Leavenworth St at Broadway                                           12\n",
       "Taylor St at 9th St                                                  11\n",
       "Parker Ave at McAllister St                                           9\n",
       "Palm St at Willow St                                                  7\n",
       "21st Ave at International Blvd                                        6\n",
       "16th St Depot                                                         6\n",
       "Willow St at Vine St                                                  5\n",
       "Name: end_station_name, Length: 329, dtype: int64"
      ]
     },
     "execution_count": 13,
     "metadata": {},
     "output_type": "execute_result"
    }
   ],
   "source": [
    "df.end_station_name.value_counts()"
   ]
  },
  {
   "cell_type": "code",
   "execution_count": 14,
   "metadata": {},
   "outputs": [
    {
     "data": {
      "text/plain": [
       "Male      130651\n",
       "Female     40844\n",
       "Other       3652\n",
       "Name: member_gender, dtype: int64"
      ]
     },
     "execution_count": 14,
     "metadata": {},
     "output_type": "execute_result"
    }
   ],
   "source": [
    "df.member_gender.value_counts()"
   ]
  },
  {
   "cell_type": "code",
   "execution_count": 15,
   "metadata": {},
   "outputs": [
    {
     "data": {
      "text/plain": [
       "Subscriber    163544\n",
       "Customer       19868\n",
       "Name: user_type, dtype: int64"
      ]
     },
     "execution_count": 15,
     "metadata": {},
     "output_type": "execute_result"
    }
   ],
   "source": [
    "df.user_type.value_counts()"
   ]
  },
  {
   "cell_type": "code",
   "execution_count": 16,
   "metadata": {},
   "outputs": [
    {
     "data": {
      "text/plain": [
       "0"
      ]
     },
     "execution_count": 16,
     "metadata": {},
     "output_type": "execute_result"
    }
   ],
   "source": [
    "sum(df.duration_sec.isnull())"
   ]
  },
  {
   "cell_type": "code",
   "execution_count": 17,
   "metadata": {},
   "outputs": [
    {
     "data": {
      "text/plain": [
       "0"
      ]
     },
     "execution_count": 17,
     "metadata": {},
     "output_type": "execute_result"
    }
   ],
   "source": [
    "sum(df.start_time.isnull())"
   ]
  },
  {
   "cell_type": "code",
   "execution_count": 18,
   "metadata": {},
   "outputs": [
    {
     "data": {
      "text/plain": [
       "0"
      ]
     },
     "execution_count": 18,
     "metadata": {},
     "output_type": "execute_result"
    }
   ],
   "source": [
    "sum(df.end_time.isnull())"
   ]
  },
  {
   "cell_type": "code",
   "execution_count": 19,
   "metadata": {},
   "outputs": [
    {
     "name": "stdout",
     "output_type": "stream",
     "text": [
      "0\n",
      "0\n",
      "0\n",
      "0\n"
     ]
    }
   ],
   "source": [
    "print(df.start_station_latitude.isnull().sum())\n",
    "print(df.start_station_longitude.isnull().sum())\n",
    "print(df.end_station_latitude.isnull().sum())\n",
    "print(df.end_station_longitude.isnull().sum())"
   ]
  },
  {
   "cell_type": "markdown",
   "metadata": {},
   "source": [
    "From the assessment above, the following are the quality issues that need to be cleaned before I proceed to my exploratory data analysis.\n",
    "\n",
    "#### Quality Issues\n",
    "\n",
    "##### From the `gobike system data` table;\n",
    "\n",
    "  - Missing data in (start_station_id, start_station_name, end_station_id, end_station_name, member_birth_year, member_gender) ***(can't clean yet)***\n",
    "  - Wrong format I: start_time, end_time are not in the right formats. Datetime instead of floats\n",
    "  - Wrong format II: start_station_id, end_station_id, bike_id are floats instead of strings\n",
    "  - Wrong format III: member_birth_year is float instead of integer\n",
    "  - Wrong format IV: user_type, member_gender and bike_share_for_all_trip are objects instead of  categories.\n",
    "  - Erroneous data: member_birth_year has a few incorrect entries\n",
    "  \n",
    "  \n",
    "  #### Tidiness Issues\n",
    "\n",
    "##### From the `gobike system data` table;\n",
    "\n",
    "  - Joint variables: Timestamp start_time and end_time contain year, month and day and time\n",
    " "
   ]
  },
  {
   "cell_type": "markdown",
   "metadata": {},
   "source": [
    "#### Clean\n",
    "\n",
    "Now it's time to fix the quality issues spotted above "
   ]
  },
  {
   "cell_type": "code",
   "execution_count": 20,
   "metadata": {},
   "outputs": [],
   "source": [
    "df_clean = df.copy()"
   ]
  },
  {
   "cell_type": "markdown",
   "metadata": {},
   "source": [
    "##### Wrong format I\n",
    "\n",
    "start_time, end_time are not in the right formats. Datetime instead of floats\n",
    "\n",
    "##### Define\n",
    "\n",
    "Change both timestamps to datetime format\n",
    "\n",
    "##### Code"
   ]
  },
  {
   "cell_type": "code",
   "execution_count": 21,
   "metadata": {},
   "outputs": [],
   "source": [
    "# import necessary library\n",
    "import datetime\n",
    "\n",
    "df_clean.start_time = pd.to_datetime(df_clean.start_time)\n",
    "df_clean.end_time = pd.to_datetime(df_clean.end_time)"
   ]
  },
  {
   "cell_type": "markdown",
   "metadata": {},
   "source": [
    "##### Test"
   ]
  },
  {
   "cell_type": "code",
   "execution_count": 22,
   "metadata": {},
   "outputs": [
    {
     "name": "stdout",
     "output_type": "stream",
     "text": [
      "datetime64[ns]\n",
      "datetime64[ns]\n"
     ]
    }
   ],
   "source": [
    "print(df_clean.start_time.dtypes)\n",
    "print(df_clean.end_time.dtypes)"
   ]
  },
  {
   "cell_type": "markdown",
   "metadata": {},
   "source": [
    "##### Wrong format II\n",
    "\n",
    "start_station_id, end_station_id, bike_id are floats instead of strings\n",
    "\n",
    "##### Define\n",
    "\n",
    "Change ids from floats to strings format\n",
    "\n",
    "##### Code"
   ]
  },
  {
   "cell_type": "code",
   "execution_count": 23,
   "metadata": {},
   "outputs": [],
   "source": [
    "df_clean.bike_id = df_clean.bike_id.astype(str)\n",
    "df_clean.start_station_id = df_clean.start_station_id.astype(str)\n",
    "df_clean.end_station_id = df_clean.end_station_id.astype(str)"
   ]
  },
  {
   "cell_type": "markdown",
   "metadata": {},
   "source": [
    "##### Test"
   ]
  },
  {
   "cell_type": "code",
   "execution_count": 24,
   "metadata": {},
   "outputs": [
    {
     "name": "stdout",
     "output_type": "stream",
     "text": [
      "object\n",
      "object\n",
      "object\n"
     ]
    }
   ],
   "source": [
    "print(df_clean.bike_id.dtypes)\n",
    "print(df_clean.start_station_id.dtypes)\n",
    "print(df_clean.end_station_id.dtypes)"
   ]
  },
  {
   "cell_type": "markdown",
   "metadata": {},
   "source": [
    "##### Erroneous data\n",
    "\n",
    "member_birth_year has a few incorrect entries\n",
    "\n",
    "##### Define\n",
    "\n",
    "Create a boolean series and keep only rows that are true. Therefore select the entries of member birth year from 1900\n",
    "\n",
    "##### Code"
   ]
  },
  {
   "cell_type": "code",
   "execution_count": 25,
   "metadata": {},
   "outputs": [],
   "source": [
    "# create a boolean series and keep only the ones that are true\n",
    "df_clean = df_clean.loc[df_clean.member_birth_year.astype(float) >= 1900]"
   ]
  },
  {
   "cell_type": "markdown",
   "metadata": {},
   "source": [
    "##### Test"
   ]
  },
  {
   "cell_type": "code",
   "execution_count": 26,
   "metadata": {},
   "outputs": [
    {
     "data": {
      "text/plain": [
       "count    175146.000000\n",
       "mean       1984.807047\n",
       "std          10.113498\n",
       "min        1900.000000\n",
       "25%        1980.000000\n",
       "50%        1987.000000\n",
       "75%        1992.000000\n",
       "max        2001.000000\n",
       "Name: member_birth_year, dtype: float64"
      ]
     },
     "execution_count": 26,
     "metadata": {},
     "output_type": "execute_result"
    }
   ],
   "source": [
    "df_clean.member_birth_year.describe()"
   ]
  },
  {
   "cell_type": "markdown",
   "metadata": {},
   "source": [
    "##### Wrong format III\n",
    "\n",
    "member_birth_year is float instead of integer\n",
    "\n",
    "##### Define\n",
    "\n",
    "Downcast to integer and use floats to rep nans. Then convert member_birth_year from float to int\n",
    "\n",
    "##### Code"
   ]
  },
  {
   "cell_type": "code",
   "execution_count": 27,
   "metadata": {},
   "outputs": [
    {
     "data": {
      "text/plain": [
       "0         1984\n",
       "2         1972\n",
       "3         1989\n",
       "4         1974\n",
       "5         1959\n",
       "6         1983\n",
       "7         1989\n",
       "8         1988\n",
       "9         1992\n",
       "10        1996\n",
       "11        1993\n",
       "12        1990\n",
       "14        1988\n",
       "15        1993\n",
       "16        1981\n",
       "17        1975\n",
       "18        1990\n",
       "19        1978\n",
       "20        1983\n",
       "21        1984\n",
       "22        1991\n",
       "23        1997\n",
       "24        1975\n",
       "25        1986\n",
       "26        2000\n",
       "27        1982\n",
       "29        1995\n",
       "30        1996\n",
       "31        1993\n",
       "32        1980\n",
       "          ... \n",
       "183381    1997\n",
       "183382    1988\n",
       "183383    1997\n",
       "183384    1991\n",
       "183385    1945\n",
       "183386    1998\n",
       "183387    1999\n",
       "183388    1927\n",
       "183389    1985\n",
       "183390    1999\n",
       "183391    1980\n",
       "183392    1993\n",
       "183393    1985\n",
       "183394    1975\n",
       "183395    1993\n",
       "183396    1991\n",
       "183397    1988\n",
       "183398    1982\n",
       "183399    1993\n",
       "183400    1984\n",
       "183401    1991\n",
       "183403    2000\n",
       "183404    1980\n",
       "183405    1984\n",
       "183406    1988\n",
       "183407    1996\n",
       "183408    1984\n",
       "183409    1990\n",
       "183410    1988\n",
       "183411    1989\n",
       "Name: member_birth_year, Length: 175146, dtype: int16"
      ]
     },
     "execution_count": 27,
     "metadata": {},
     "output_type": "execute_result"
    }
   ],
   "source": [
    "# downcast to integer and change nans to float\n",
    "pd.to_numeric(df_clean.member_birth_year, downcast='integer').fillna(0)"
   ]
  },
  {
   "cell_type": "code",
   "execution_count": 28,
   "metadata": {},
   "outputs": [],
   "source": [
    "# convert member birth year to integer\n",
    "df_clean.member_birth_year = df_clean.member_birth_year.astype(int)"
   ]
  },
  {
   "cell_type": "markdown",
   "metadata": {},
   "source": [
    "##### Test"
   ]
  },
  {
   "cell_type": "code",
   "execution_count": 29,
   "metadata": {},
   "outputs": [
    {
     "data": {
      "text/plain": [
       "count    175146.000000\n",
       "mean       1984.807047\n",
       "std          10.113498\n",
       "min        1900.000000\n",
       "25%        1980.000000\n",
       "50%        1987.000000\n",
       "75%        1992.000000\n",
       "max        2001.000000\n",
       "Name: member_birth_year, dtype: float64"
      ]
     },
     "execution_count": 29,
     "metadata": {},
     "output_type": "execute_result"
    }
   ],
   "source": [
    "df_clean.member_birth_year.describe()"
   ]
  },
  {
   "cell_type": "code",
   "execution_count": 30,
   "metadata": {},
   "outputs": [
    {
     "data": {
      "text/html": [
       "<div>\n",
       "<style scoped>\n",
       "    .dataframe tbody tr th:only-of-type {\n",
       "        vertical-align: middle;\n",
       "    }\n",
       "\n",
       "    .dataframe tbody tr th {\n",
       "        vertical-align: top;\n",
       "    }\n",
       "\n",
       "    .dataframe thead th {\n",
       "        text-align: right;\n",
       "    }\n",
       "</style>\n",
       "<table border=\"1\" class=\"dataframe\">\n",
       "  <thead>\n",
       "    <tr style=\"text-align: right;\">\n",
       "      <th></th>\n",
       "      <th>duration_sec</th>\n",
       "      <th>start_time</th>\n",
       "      <th>end_time</th>\n",
       "      <th>start_station_id</th>\n",
       "      <th>start_station_name</th>\n",
       "      <th>start_station_latitude</th>\n",
       "      <th>start_station_longitude</th>\n",
       "      <th>end_station_id</th>\n",
       "      <th>end_station_name</th>\n",
       "      <th>end_station_latitude</th>\n",
       "      <th>end_station_longitude</th>\n",
       "      <th>bike_id</th>\n",
       "      <th>user_type</th>\n",
       "      <th>member_birth_year</th>\n",
       "      <th>member_gender</th>\n",
       "      <th>bike_share_for_all_trip</th>\n",
       "    </tr>\n",
       "  </thead>\n",
       "  <tbody>\n",
       "    <tr>\n",
       "      <th>0</th>\n",
       "      <td>52185</td>\n",
       "      <td>2019-02-28 17:32:10.145</td>\n",
       "      <td>2019-03-01 08:01:55.975</td>\n",
       "      <td>21.0</td>\n",
       "      <td>Montgomery St BART Station (Market St at 2nd St)</td>\n",
       "      <td>37.789625</td>\n",
       "      <td>-122.400811</td>\n",
       "      <td>13.0</td>\n",
       "      <td>Commercial St at Montgomery St</td>\n",
       "      <td>37.794231</td>\n",
       "      <td>-122.402923</td>\n",
       "      <td>4902</td>\n",
       "      <td>Customer</td>\n",
       "      <td>1984</td>\n",
       "      <td>Male</td>\n",
       "      <td>No</td>\n",
       "    </tr>\n",
       "    <tr>\n",
       "      <th>2</th>\n",
       "      <td>61854</td>\n",
       "      <td>2019-02-28 12:13:13.218</td>\n",
       "      <td>2019-03-01 05:24:08.146</td>\n",
       "      <td>86.0</td>\n",
       "      <td>Market St at Dolores St</td>\n",
       "      <td>37.769305</td>\n",
       "      <td>-122.426826</td>\n",
       "      <td>3.0</td>\n",
       "      <td>Powell St BART Station (Market St at 4th St)</td>\n",
       "      <td>37.786375</td>\n",
       "      <td>-122.404904</td>\n",
       "      <td>5905</td>\n",
       "      <td>Customer</td>\n",
       "      <td>1972</td>\n",
       "      <td>Male</td>\n",
       "      <td>No</td>\n",
       "    </tr>\n",
       "    <tr>\n",
       "      <th>3</th>\n",
       "      <td>36490</td>\n",
       "      <td>2019-02-28 17:54:26.010</td>\n",
       "      <td>2019-03-01 04:02:36.842</td>\n",
       "      <td>375.0</td>\n",
       "      <td>Grove St at Masonic Ave</td>\n",
       "      <td>37.774836</td>\n",
       "      <td>-122.446546</td>\n",
       "      <td>70.0</td>\n",
       "      <td>Central Ave at Fell St</td>\n",
       "      <td>37.773311</td>\n",
       "      <td>-122.444293</td>\n",
       "      <td>6638</td>\n",
       "      <td>Subscriber</td>\n",
       "      <td>1989</td>\n",
       "      <td>Other</td>\n",
       "      <td>No</td>\n",
       "    </tr>\n",
       "    <tr>\n",
       "      <th>4</th>\n",
       "      <td>1585</td>\n",
       "      <td>2019-02-28 23:54:18.549</td>\n",
       "      <td>2019-03-01 00:20:44.074</td>\n",
       "      <td>7.0</td>\n",
       "      <td>Frank H Ogawa Plaza</td>\n",
       "      <td>37.804562</td>\n",
       "      <td>-122.271738</td>\n",
       "      <td>222.0</td>\n",
       "      <td>10th Ave at E 15th St</td>\n",
       "      <td>37.792714</td>\n",
       "      <td>-122.248780</td>\n",
       "      <td>4898</td>\n",
       "      <td>Subscriber</td>\n",
       "      <td>1974</td>\n",
       "      <td>Male</td>\n",
       "      <td>Yes</td>\n",
       "    </tr>\n",
       "    <tr>\n",
       "      <th>5</th>\n",
       "      <td>1793</td>\n",
       "      <td>2019-02-28 23:49:58.632</td>\n",
       "      <td>2019-03-01 00:19:51.760</td>\n",
       "      <td>93.0</td>\n",
       "      <td>4th St at Mission Bay Blvd S</td>\n",
       "      <td>37.770407</td>\n",
       "      <td>-122.391198</td>\n",
       "      <td>323.0</td>\n",
       "      <td>Broadway at Kearny</td>\n",
       "      <td>37.798014</td>\n",
       "      <td>-122.405950</td>\n",
       "      <td>5200</td>\n",
       "      <td>Subscriber</td>\n",
       "      <td>1959</td>\n",
       "      <td>Male</td>\n",
       "      <td>No</td>\n",
       "    </tr>\n",
       "  </tbody>\n",
       "</table>\n",
       "</div>"
      ],
      "text/plain": [
       "   duration_sec              start_time                end_time  \\\n",
       "0         52185 2019-02-28 17:32:10.145 2019-03-01 08:01:55.975   \n",
       "2         61854 2019-02-28 12:13:13.218 2019-03-01 05:24:08.146   \n",
       "3         36490 2019-02-28 17:54:26.010 2019-03-01 04:02:36.842   \n",
       "4          1585 2019-02-28 23:54:18.549 2019-03-01 00:20:44.074   \n",
       "5          1793 2019-02-28 23:49:58.632 2019-03-01 00:19:51.760   \n",
       "\n",
       "  start_station_id                                start_station_name  \\\n",
       "0             21.0  Montgomery St BART Station (Market St at 2nd St)   \n",
       "2             86.0                           Market St at Dolores St   \n",
       "3            375.0                           Grove St at Masonic Ave   \n",
       "4              7.0                               Frank H Ogawa Plaza   \n",
       "5             93.0                      4th St at Mission Bay Blvd S   \n",
       "\n",
       "   start_station_latitude  start_station_longitude end_station_id  \\\n",
       "0               37.789625              -122.400811           13.0   \n",
       "2               37.769305              -122.426826            3.0   \n",
       "3               37.774836              -122.446546           70.0   \n",
       "4               37.804562              -122.271738          222.0   \n",
       "5               37.770407              -122.391198          323.0   \n",
       "\n",
       "                               end_station_name  end_station_latitude  \\\n",
       "0                Commercial St at Montgomery St             37.794231   \n",
       "2  Powell St BART Station (Market St at 4th St)             37.786375   \n",
       "3                        Central Ave at Fell St             37.773311   \n",
       "4                         10th Ave at E 15th St             37.792714   \n",
       "5                            Broadway at Kearny             37.798014   \n",
       "\n",
       "   end_station_longitude bike_id   user_type  member_birth_year member_gender  \\\n",
       "0            -122.402923    4902    Customer               1984          Male   \n",
       "2            -122.404904    5905    Customer               1972          Male   \n",
       "3            -122.444293    6638  Subscriber               1989         Other   \n",
       "4            -122.248780    4898  Subscriber               1974          Male   \n",
       "5            -122.405950    5200  Subscriber               1959          Male   \n",
       "\n",
       "  bike_share_for_all_trip  \n",
       "0                      No  \n",
       "2                      No  \n",
       "3                      No  \n",
       "4                     Yes  \n",
       "5                      No  "
      ]
     },
     "execution_count": 30,
     "metadata": {},
     "output_type": "execute_result"
    }
   ],
   "source": [
    "df_clean.head()"
   ]
  },
  {
   "cell_type": "code",
   "execution_count": 31,
   "metadata": {},
   "outputs": [],
   "source": [
    "# create a new column that contains member age\n",
    "df_clean['member_age'] = 2019 - df_clean.member_birth_year"
   ]
  },
  {
   "cell_type": "code",
   "execution_count": 32,
   "metadata": {},
   "outputs": [
    {
     "data": {
      "text/plain": [
       "0    35\n",
       "2    47\n",
       "3    30\n",
       "4    45\n",
       "5    60\n",
       "Name: member_age, dtype: int64"
      ]
     },
     "execution_count": 32,
     "metadata": {},
     "output_type": "execute_result"
    }
   ],
   "source": [
    "df_clean['member_age'].head()"
   ]
  },
  {
   "cell_type": "markdown",
   "metadata": {},
   "source": [
    "Now, let's categorize the age of users."
   ]
  },
  {
   "cell_type": "code",
   "execution_count": 33,
   "metadata": {},
   "outputs": [],
   "source": [
    "# group age in clusters of generations\n",
    "bins = [18, 25, 41, 57, 67, 76, 120]\n",
    "labels = ['Gen Z', 'Millennials', 'Gen X', 'Boomers II', 'Boomers I', 'Post War']\n",
    "df_clean['age_group']= pd.cut(df_clean['member_age'], bins, labels = labels, include_lowest = True)"
   ]
  },
  {
   "cell_type": "code",
   "execution_count": 34,
   "metadata": {},
   "outputs": [
    {
     "data": {
      "text/plain": [
       "Millennials    110419\n",
       "Gen Z           30652\n",
       "Gen X           28294\n",
       "Boomers II       4750\n",
       "Boomers I         799\n",
       "Post War          232\n",
       "Name: age_group, dtype: int64"
      ]
     },
     "execution_count": 34,
     "metadata": {},
     "output_type": "execute_result"
    }
   ],
   "source": [
    "df_clean.age_group.value_counts()"
   ]
  },
  {
   "cell_type": "code",
   "execution_count": 35,
   "metadata": {},
   "outputs": [],
   "source": [
    "# convert to category data type\n",
    "df_clean.age_group = df_clean.age_group.astype('category')"
   ]
  },
  {
   "cell_type": "code",
   "execution_count": 36,
   "metadata": {},
   "outputs": [
    {
     "data": {
      "text/html": [
       "<div>\n",
       "<style scoped>\n",
       "    .dataframe tbody tr th:only-of-type {\n",
       "        vertical-align: middle;\n",
       "    }\n",
       "\n",
       "    .dataframe tbody tr th {\n",
       "        vertical-align: top;\n",
       "    }\n",
       "\n",
       "    .dataframe thead th {\n",
       "        text-align: right;\n",
       "    }\n",
       "</style>\n",
       "<table border=\"1\" class=\"dataframe\">\n",
       "  <thead>\n",
       "    <tr style=\"text-align: right;\">\n",
       "      <th></th>\n",
       "      <th>duration_sec</th>\n",
       "      <th>start_time</th>\n",
       "      <th>end_time</th>\n",
       "      <th>start_station_id</th>\n",
       "      <th>start_station_name</th>\n",
       "      <th>start_station_latitude</th>\n",
       "      <th>start_station_longitude</th>\n",
       "      <th>end_station_id</th>\n",
       "      <th>end_station_name</th>\n",
       "      <th>end_station_latitude</th>\n",
       "      <th>end_station_longitude</th>\n",
       "      <th>bike_id</th>\n",
       "      <th>user_type</th>\n",
       "      <th>member_birth_year</th>\n",
       "      <th>member_gender</th>\n",
       "      <th>bike_share_for_all_trip</th>\n",
       "      <th>member_age</th>\n",
       "      <th>age_group</th>\n",
       "    </tr>\n",
       "  </thead>\n",
       "  <tbody>\n",
       "    <tr>\n",
       "      <th>0</th>\n",
       "      <td>52185</td>\n",
       "      <td>2019-02-28 17:32:10.145</td>\n",
       "      <td>2019-03-01 08:01:55.975</td>\n",
       "      <td>21.0</td>\n",
       "      <td>Montgomery St BART Station (Market St at 2nd St)</td>\n",
       "      <td>37.789625</td>\n",
       "      <td>-122.400811</td>\n",
       "      <td>13.0</td>\n",
       "      <td>Commercial St at Montgomery St</td>\n",
       "      <td>37.794231</td>\n",
       "      <td>-122.402923</td>\n",
       "      <td>4902</td>\n",
       "      <td>Customer</td>\n",
       "      <td>1984</td>\n",
       "      <td>Male</td>\n",
       "      <td>No</td>\n",
       "      <td>35</td>\n",
       "      <td>Millennials</td>\n",
       "    </tr>\n",
       "    <tr>\n",
       "      <th>2</th>\n",
       "      <td>61854</td>\n",
       "      <td>2019-02-28 12:13:13.218</td>\n",
       "      <td>2019-03-01 05:24:08.146</td>\n",
       "      <td>86.0</td>\n",
       "      <td>Market St at Dolores St</td>\n",
       "      <td>37.769305</td>\n",
       "      <td>-122.426826</td>\n",
       "      <td>3.0</td>\n",
       "      <td>Powell St BART Station (Market St at 4th St)</td>\n",
       "      <td>37.786375</td>\n",
       "      <td>-122.404904</td>\n",
       "      <td>5905</td>\n",
       "      <td>Customer</td>\n",
       "      <td>1972</td>\n",
       "      <td>Male</td>\n",
       "      <td>No</td>\n",
       "      <td>47</td>\n",
       "      <td>Gen X</td>\n",
       "    </tr>\n",
       "    <tr>\n",
       "      <th>3</th>\n",
       "      <td>36490</td>\n",
       "      <td>2019-02-28 17:54:26.010</td>\n",
       "      <td>2019-03-01 04:02:36.842</td>\n",
       "      <td>375.0</td>\n",
       "      <td>Grove St at Masonic Ave</td>\n",
       "      <td>37.774836</td>\n",
       "      <td>-122.446546</td>\n",
       "      <td>70.0</td>\n",
       "      <td>Central Ave at Fell St</td>\n",
       "      <td>37.773311</td>\n",
       "      <td>-122.444293</td>\n",
       "      <td>6638</td>\n",
       "      <td>Subscriber</td>\n",
       "      <td>1989</td>\n",
       "      <td>Other</td>\n",
       "      <td>No</td>\n",
       "      <td>30</td>\n",
       "      <td>Millennials</td>\n",
       "    </tr>\n",
       "    <tr>\n",
       "      <th>4</th>\n",
       "      <td>1585</td>\n",
       "      <td>2019-02-28 23:54:18.549</td>\n",
       "      <td>2019-03-01 00:20:44.074</td>\n",
       "      <td>7.0</td>\n",
       "      <td>Frank H Ogawa Plaza</td>\n",
       "      <td>37.804562</td>\n",
       "      <td>-122.271738</td>\n",
       "      <td>222.0</td>\n",
       "      <td>10th Ave at E 15th St</td>\n",
       "      <td>37.792714</td>\n",
       "      <td>-122.248780</td>\n",
       "      <td>4898</td>\n",
       "      <td>Subscriber</td>\n",
       "      <td>1974</td>\n",
       "      <td>Male</td>\n",
       "      <td>Yes</td>\n",
       "      <td>45</td>\n",
       "      <td>Gen X</td>\n",
       "    </tr>\n",
       "    <tr>\n",
       "      <th>5</th>\n",
       "      <td>1793</td>\n",
       "      <td>2019-02-28 23:49:58.632</td>\n",
       "      <td>2019-03-01 00:19:51.760</td>\n",
       "      <td>93.0</td>\n",
       "      <td>4th St at Mission Bay Blvd S</td>\n",
       "      <td>37.770407</td>\n",
       "      <td>-122.391198</td>\n",
       "      <td>323.0</td>\n",
       "      <td>Broadway at Kearny</td>\n",
       "      <td>37.798014</td>\n",
       "      <td>-122.405950</td>\n",
       "      <td>5200</td>\n",
       "      <td>Subscriber</td>\n",
       "      <td>1959</td>\n",
       "      <td>Male</td>\n",
       "      <td>No</td>\n",
       "      <td>60</td>\n",
       "      <td>Boomers II</td>\n",
       "    </tr>\n",
       "  </tbody>\n",
       "</table>\n",
       "</div>"
      ],
      "text/plain": [
       "   duration_sec              start_time                end_time  \\\n",
       "0         52185 2019-02-28 17:32:10.145 2019-03-01 08:01:55.975   \n",
       "2         61854 2019-02-28 12:13:13.218 2019-03-01 05:24:08.146   \n",
       "3         36490 2019-02-28 17:54:26.010 2019-03-01 04:02:36.842   \n",
       "4          1585 2019-02-28 23:54:18.549 2019-03-01 00:20:44.074   \n",
       "5          1793 2019-02-28 23:49:58.632 2019-03-01 00:19:51.760   \n",
       "\n",
       "  start_station_id                                start_station_name  \\\n",
       "0             21.0  Montgomery St BART Station (Market St at 2nd St)   \n",
       "2             86.0                           Market St at Dolores St   \n",
       "3            375.0                           Grove St at Masonic Ave   \n",
       "4              7.0                               Frank H Ogawa Plaza   \n",
       "5             93.0                      4th St at Mission Bay Blvd S   \n",
       "\n",
       "   start_station_latitude  start_station_longitude end_station_id  \\\n",
       "0               37.789625              -122.400811           13.0   \n",
       "2               37.769305              -122.426826            3.0   \n",
       "3               37.774836              -122.446546           70.0   \n",
       "4               37.804562              -122.271738          222.0   \n",
       "5               37.770407              -122.391198          323.0   \n",
       "\n",
       "                               end_station_name  end_station_latitude  \\\n",
       "0                Commercial St at Montgomery St             37.794231   \n",
       "2  Powell St BART Station (Market St at 4th St)             37.786375   \n",
       "3                        Central Ave at Fell St             37.773311   \n",
       "4                         10th Ave at E 15th St             37.792714   \n",
       "5                            Broadway at Kearny             37.798014   \n",
       "\n",
       "   end_station_longitude bike_id   user_type  member_birth_year member_gender  \\\n",
       "0            -122.402923    4902    Customer               1984          Male   \n",
       "2            -122.404904    5905    Customer               1972          Male   \n",
       "3            -122.444293    6638  Subscriber               1989         Other   \n",
       "4            -122.248780    4898  Subscriber               1974          Male   \n",
       "5            -122.405950    5200  Subscriber               1959          Male   \n",
       "\n",
       "  bike_share_for_all_trip  member_age    age_group  \n",
       "0                      No          35  Millennials  \n",
       "2                      No          47        Gen X  \n",
       "3                      No          30  Millennials  \n",
       "4                     Yes          45        Gen X  \n",
       "5                      No          60   Boomers II  "
      ]
     },
     "execution_count": 36,
     "metadata": {},
     "output_type": "execute_result"
    }
   ],
   "source": [
    "df_clean.head()"
   ]
  },
  {
   "cell_type": "code",
   "execution_count": 37,
   "metadata": {},
   "outputs": [
    {
     "name": "stdout",
     "output_type": "stream",
     "text": [
      "<class 'pandas.core.frame.DataFrame'>\n",
      "Int64Index: 175146 entries, 0 to 183411\n",
      "Data columns (total 18 columns):\n",
      "duration_sec               175146 non-null int64\n",
      "start_time                 175146 non-null datetime64[ns]\n",
      "end_time                   175146 non-null datetime64[ns]\n",
      "start_station_id           175146 non-null object\n",
      "start_station_name         174951 non-null object\n",
      "start_station_latitude     175146 non-null float64\n",
      "start_station_longitude    175146 non-null float64\n",
      "end_station_id             175146 non-null object\n",
      "end_station_name           174951 non-null object\n",
      "end_station_latitude       175146 non-null float64\n",
      "end_station_longitude      175146 non-null float64\n",
      "bike_id                    175146 non-null object\n",
      "user_type                  175146 non-null object\n",
      "member_birth_year          175146 non-null int64\n",
      "member_gender              175146 non-null object\n",
      "bike_share_for_all_trip    175146 non-null object\n",
      "member_age                 175146 non-null int64\n",
      "age_group                  175146 non-null category\n",
      "dtypes: category(1), datetime64[ns](2), float64(4), int64(3), object(8)\n",
      "memory usage: 24.2+ MB\n"
     ]
    }
   ],
   "source": [
    "df_clean.info()"
   ]
  },
  {
   "cell_type": "code",
   "execution_count": 38,
   "metadata": {},
   "outputs": [
    {
     "data": {
      "text/plain": [
       "count    175146.000000\n",
       "mean         34.192953\n",
       "std          10.113498\n",
       "min          18.000000\n",
       "25%          27.000000\n",
       "50%          32.000000\n",
       "75%          39.000000\n",
       "max         119.000000\n",
       "Name: member_age, dtype: float64"
      ]
     },
     "execution_count": 38,
     "metadata": {},
     "output_type": "execute_result"
    }
   ],
   "source": [
    "df_clean.member_age.describe()"
   ]
  },
  {
   "cell_type": "markdown",
   "metadata": {},
   "source": [
    "##### Wrong format IV\n",
    "\n",
    "user_type, member_gender and bike_share_for_all_trip are objects instead of categories.\n",
    "\n",
    "##### Define\n",
    "\n",
    "Convert all the three variables to categories using astype\n",
    "\n",
    "##### Code"
   ]
  },
  {
   "cell_type": "code",
   "execution_count": 39,
   "metadata": {},
   "outputs": [],
   "source": [
    "# convert to category format\n",
    "df_clean.user_type = df_clean.user_type.astype('category')\n",
    "df_clean.member_gender = df_clean.member_gender.astype('category')\n",
    "df_clean.bike_share_for_all_trip = df_clean.bike_share_for_all_trip.astype('category')"
   ]
  },
  {
   "cell_type": "markdown",
   "metadata": {},
   "source": [
    "##### Test"
   ]
  },
  {
   "cell_type": "code",
   "execution_count": 40,
   "metadata": {},
   "outputs": [
    {
     "name": "stdout",
     "output_type": "stream",
     "text": [
      "category\n",
      "category\n",
      "category\n"
     ]
    }
   ],
   "source": [
    "print(df_clean.user_type.dtypes)\n",
    "print(df_clean.member_gender.dtypes)\n",
    "print(df_clean.bike_share_for_all_trip.dtypes)"
   ]
  },
  {
   "cell_type": "markdown",
   "metadata": {},
   "source": [
    "#### Tidiness Issues\n",
    "\n",
    "##### Joint variables\n",
    "\n",
    "start_time and end_time contains year, month and day and time\n",
    "\n",
    "##### Define\n",
    "\n",
    "First, convert duration from seconds to minutes. Second, convert timestamp to datetime to extract month, day and month from start_time and end_time. Third, merge the time data with df_clean. And finally, drop columns that are not needed.\n",
    "\n",
    "##### Code"
   ]
  },
  {
   "cell_type": "code",
   "execution_count": 41,
   "metadata": {},
   "outputs": [],
   "source": [
    "# convert duration from seconds to minutes\n",
    "df_clean['duration_min'] = df_clean['duration_sec'] / 60\n",
    "\n",
    "# convert from float to integer\n",
    "df_clean['duration_min'] = df_clean['duration_min'].astype(int)"
   ]
  },
  {
   "cell_type": "code",
   "execution_count": 42,
   "metadata": {},
   "outputs": [],
   "source": [
    "# convert timestamp column to datetime\n",
    "st = pd.to_datetime(df_clean['start_time'], unit='ms')"
   ]
  },
  {
   "cell_type": "code",
   "execution_count": 43,
   "metadata": {},
   "outputs": [],
   "source": [
    "# extract hour, day, week, month, year and day of the week from start_time (datetime)\n",
    "start_time_data = [st, \\\n",
    "             st.dt.hour, \\\n",
    "             st.dt.day, \\\n",
    "             st.dt.week, \\\n",
    "             st.dt.month, \\\n",
    "             st.dt.year, \\\n",
    "             st.dt.dayofweek]"
   ]
  },
  {
   "cell_type": "code",
   "execution_count": 44,
   "metadata": {},
   "outputs": [],
   "source": [
    "# create a new start time dataframe\n",
    "column_labels = ['start_time', 'start_time_hour', 'start_time_day', 'start_time_week', 'start_month', 'start_time_year', 'start_time_day_of_week']\n",
    "\n",
    "start_time_df = pd.DataFrame(dict(zip(column_labels, start_time_data)))"
   ]
  },
  {
   "cell_type": "code",
   "execution_count": 45,
   "metadata": {},
   "outputs": [
    {
     "data": {
      "text/html": [
       "<div>\n",
       "<style scoped>\n",
       "    .dataframe tbody tr th:only-of-type {\n",
       "        vertical-align: middle;\n",
       "    }\n",
       "\n",
       "    .dataframe tbody tr th {\n",
       "        vertical-align: top;\n",
       "    }\n",
       "\n",
       "    .dataframe thead th {\n",
       "        text-align: right;\n",
       "    }\n",
       "</style>\n",
       "<table border=\"1\" class=\"dataframe\">\n",
       "  <thead>\n",
       "    <tr style=\"text-align: right;\">\n",
       "      <th></th>\n",
       "      <th>start_time</th>\n",
       "      <th>start_time_hour</th>\n",
       "      <th>start_time_day</th>\n",
       "      <th>start_time_week</th>\n",
       "      <th>start_month</th>\n",
       "      <th>start_time_year</th>\n",
       "      <th>start_time_day_of_week</th>\n",
       "    </tr>\n",
       "  </thead>\n",
       "  <tbody>\n",
       "    <tr>\n",
       "      <th>0</th>\n",
       "      <td>2019-02-28 17:32:10.145</td>\n",
       "      <td>17</td>\n",
       "      <td>28</td>\n",
       "      <td>9</td>\n",
       "      <td>2</td>\n",
       "      <td>2019</td>\n",
       "      <td>3</td>\n",
       "    </tr>\n",
       "    <tr>\n",
       "      <th>2</th>\n",
       "      <td>2019-02-28 12:13:13.218</td>\n",
       "      <td>12</td>\n",
       "      <td>28</td>\n",
       "      <td>9</td>\n",
       "      <td>2</td>\n",
       "      <td>2019</td>\n",
       "      <td>3</td>\n",
       "    </tr>\n",
       "    <tr>\n",
       "      <th>3</th>\n",
       "      <td>2019-02-28 17:54:26.010</td>\n",
       "      <td>17</td>\n",
       "      <td>28</td>\n",
       "      <td>9</td>\n",
       "      <td>2</td>\n",
       "      <td>2019</td>\n",
       "      <td>3</td>\n",
       "    </tr>\n",
       "    <tr>\n",
       "      <th>4</th>\n",
       "      <td>2019-02-28 23:54:18.549</td>\n",
       "      <td>23</td>\n",
       "      <td>28</td>\n",
       "      <td>9</td>\n",
       "      <td>2</td>\n",
       "      <td>2019</td>\n",
       "      <td>3</td>\n",
       "    </tr>\n",
       "    <tr>\n",
       "      <th>5</th>\n",
       "      <td>2019-02-28 23:49:58.632</td>\n",
       "      <td>23</td>\n",
       "      <td>28</td>\n",
       "      <td>9</td>\n",
       "      <td>2</td>\n",
       "      <td>2019</td>\n",
       "      <td>3</td>\n",
       "    </tr>\n",
       "  </tbody>\n",
       "</table>\n",
       "</div>"
      ],
      "text/plain": [
       "               start_time  start_time_hour  start_time_day  start_time_week  \\\n",
       "0 2019-02-28 17:32:10.145               17              28                9   \n",
       "2 2019-02-28 12:13:13.218               12              28                9   \n",
       "3 2019-02-28 17:54:26.010               17              28                9   \n",
       "4 2019-02-28 23:54:18.549               23              28                9   \n",
       "5 2019-02-28 23:49:58.632               23              28                9   \n",
       "\n",
       "   start_month  start_time_year  start_time_day_of_week  \n",
       "0            2             2019                       3  \n",
       "2            2             2019                       3  \n",
       "3            2             2019                       3  \n",
       "4            2             2019                       3  \n",
       "5            2             2019                       3  "
      ]
     },
     "execution_count": 45,
     "metadata": {},
     "output_type": "execute_result"
    }
   ],
   "source": [
    "start_time_df.head()"
   ]
  },
  {
   "cell_type": "code",
   "execution_count": 46,
   "metadata": {},
   "outputs": [],
   "source": [
    "# also convert end time to datetime\n",
    "et = pd.to_datetime(df_clean['end_time'], unit='ms')"
   ]
  },
  {
   "cell_type": "code",
   "execution_count": 47,
   "metadata": {},
   "outputs": [],
   "source": [
    "# extract hour, day, week, month, year and day of the week from end time (datetime)\n",
    "end_time_data = [et, \\\n",
    "             et.dt.hour, \\\n",
    "             et.dt.day, \\\n",
    "             et.dt.week, \\\n",
    "             et.dt.month, \\\n",
    "             et.dt.year, \\\n",
    "             et.dt.dayofweek]"
   ]
  },
  {
   "cell_type": "code",
   "execution_count": 48,
   "metadata": {},
   "outputs": [],
   "source": [
    "# create a new end time dataframe\n",
    "column_labels = ['end_time', 'end_time_hour', 'end_time_day', 'end_time_week', 'end_month', 'end_time_year', 'end_time_day_of_week']\n",
    "\n",
    "end_time_df = pd.DataFrame(dict(zip(column_labels, end_time_data)))"
   ]
  },
  {
   "cell_type": "code",
   "execution_count": 49,
   "metadata": {},
   "outputs": [
    {
     "data": {
      "text/html": [
       "<div>\n",
       "<style scoped>\n",
       "    .dataframe tbody tr th:only-of-type {\n",
       "        vertical-align: middle;\n",
       "    }\n",
       "\n",
       "    .dataframe tbody tr th {\n",
       "        vertical-align: top;\n",
       "    }\n",
       "\n",
       "    .dataframe thead th {\n",
       "        text-align: right;\n",
       "    }\n",
       "</style>\n",
       "<table border=\"1\" class=\"dataframe\">\n",
       "  <thead>\n",
       "    <tr style=\"text-align: right;\">\n",
       "      <th></th>\n",
       "      <th>end_time</th>\n",
       "      <th>end_time_hour</th>\n",
       "      <th>end_time_day</th>\n",
       "      <th>end_time_week</th>\n",
       "      <th>end_month</th>\n",
       "      <th>end_time_year</th>\n",
       "      <th>end_time_day_of_week</th>\n",
       "    </tr>\n",
       "  </thead>\n",
       "  <tbody>\n",
       "    <tr>\n",
       "      <th>0</th>\n",
       "      <td>2019-03-01 08:01:55.975</td>\n",
       "      <td>8</td>\n",
       "      <td>1</td>\n",
       "      <td>9</td>\n",
       "      <td>3</td>\n",
       "      <td>2019</td>\n",
       "      <td>4</td>\n",
       "    </tr>\n",
       "    <tr>\n",
       "      <th>2</th>\n",
       "      <td>2019-03-01 05:24:08.146</td>\n",
       "      <td>5</td>\n",
       "      <td>1</td>\n",
       "      <td>9</td>\n",
       "      <td>3</td>\n",
       "      <td>2019</td>\n",
       "      <td>4</td>\n",
       "    </tr>\n",
       "    <tr>\n",
       "      <th>3</th>\n",
       "      <td>2019-03-01 04:02:36.842</td>\n",
       "      <td>4</td>\n",
       "      <td>1</td>\n",
       "      <td>9</td>\n",
       "      <td>3</td>\n",
       "      <td>2019</td>\n",
       "      <td>4</td>\n",
       "    </tr>\n",
       "    <tr>\n",
       "      <th>4</th>\n",
       "      <td>2019-03-01 00:20:44.074</td>\n",
       "      <td>0</td>\n",
       "      <td>1</td>\n",
       "      <td>9</td>\n",
       "      <td>3</td>\n",
       "      <td>2019</td>\n",
       "      <td>4</td>\n",
       "    </tr>\n",
       "    <tr>\n",
       "      <th>5</th>\n",
       "      <td>2019-03-01 00:19:51.760</td>\n",
       "      <td>0</td>\n",
       "      <td>1</td>\n",
       "      <td>9</td>\n",
       "      <td>3</td>\n",
       "      <td>2019</td>\n",
       "      <td>4</td>\n",
       "    </tr>\n",
       "  </tbody>\n",
       "</table>\n",
       "</div>"
      ],
      "text/plain": [
       "                 end_time  end_time_hour  end_time_day  end_time_week  \\\n",
       "0 2019-03-01 08:01:55.975              8             1              9   \n",
       "2 2019-03-01 05:24:08.146              5             1              9   \n",
       "3 2019-03-01 04:02:36.842              4             1              9   \n",
       "4 2019-03-01 00:20:44.074              0             1              9   \n",
       "5 2019-03-01 00:19:51.760              0             1              9   \n",
       "\n",
       "   end_month  end_time_year  end_time_day_of_week  \n",
       "0          3           2019                     4  \n",
       "2          3           2019                     4  \n",
       "3          3           2019                     4  \n",
       "4          3           2019                     4  \n",
       "5          3           2019                     4  "
      ]
     },
     "execution_count": 49,
     "metadata": {},
     "output_type": "execute_result"
    }
   ],
   "source": [
    "end_time_df.head()"
   ]
  },
  {
   "cell_type": "code",
   "execution_count": 50,
   "metadata": {},
   "outputs": [],
   "source": [
    "# now, join start time table with df_clean\n",
    "df_clean = pd.merge(df_clean, start_time_df,\n",
    "                            on='start_time', how='left')"
   ]
  },
  {
   "cell_type": "code",
   "execution_count": 51,
   "metadata": {},
   "outputs": [],
   "source": [
    "# convert start time month to Gregorian calendar month\n",
    "df_clean['start_time_month'] = pd.to_datetime(df_clean['start_time'], format='%m').dt.month_name().str.slice(stop=3)"
   ]
  },
  {
   "cell_type": "code",
   "execution_count": 52,
   "metadata": {},
   "outputs": [
    {
     "data": {
      "text/plain": [
       "Feb    175168\n",
       "Name: start_time_month, dtype: int64"
      ]
     },
     "execution_count": 52,
     "metadata": {},
     "output_type": "execute_result"
    }
   ],
   "source": [
    "df_clean.start_time_month.value_counts()"
   ]
  },
  {
   "cell_type": "markdown",
   "metadata": {},
   "source": [
    "A reminder again that this dataset only contains entries for the month of February only"
   ]
  },
  {
   "cell_type": "code",
   "execution_count": 53,
   "metadata": {},
   "outputs": [],
   "source": [
    "# extract week day from start time\n",
    "df_clean['start_time_weekday'] = pd.to_datetime(df_clean['start_time'], format='%a').dt.day_name()"
   ]
  },
  {
   "cell_type": "code",
   "execution_count": 54,
   "metadata": {},
   "outputs": [
    {
     "data": {
      "text/html": [
       "<div>\n",
       "<style scoped>\n",
       "    .dataframe tbody tr th:only-of-type {\n",
       "        vertical-align: middle;\n",
       "    }\n",
       "\n",
       "    .dataframe tbody tr th {\n",
       "        vertical-align: top;\n",
       "    }\n",
       "\n",
       "    .dataframe thead th {\n",
       "        text-align: right;\n",
       "    }\n",
       "</style>\n",
       "<table border=\"1\" class=\"dataframe\">\n",
       "  <thead>\n",
       "    <tr style=\"text-align: right;\">\n",
       "      <th></th>\n",
       "      <th>duration_sec</th>\n",
       "      <th>start_time</th>\n",
       "      <th>end_time</th>\n",
       "      <th>start_station_id</th>\n",
       "      <th>start_station_name</th>\n",
       "      <th>start_station_latitude</th>\n",
       "      <th>start_station_longitude</th>\n",
       "      <th>end_station_id</th>\n",
       "      <th>end_station_name</th>\n",
       "      <th>end_station_latitude</th>\n",
       "      <th>...</th>\n",
       "      <th>age_group</th>\n",
       "      <th>duration_min</th>\n",
       "      <th>start_time_hour</th>\n",
       "      <th>start_time_day</th>\n",
       "      <th>start_time_week</th>\n",
       "      <th>start_month</th>\n",
       "      <th>start_time_year</th>\n",
       "      <th>start_time_day_of_week</th>\n",
       "      <th>start_time_month</th>\n",
       "      <th>start_time_weekday</th>\n",
       "    </tr>\n",
       "  </thead>\n",
       "  <tbody>\n",
       "    <tr>\n",
       "      <th>0</th>\n",
       "      <td>52185</td>\n",
       "      <td>2019-02-28 17:32:10.145</td>\n",
       "      <td>2019-03-01 08:01:55.975</td>\n",
       "      <td>21.0</td>\n",
       "      <td>Montgomery St BART Station (Market St at 2nd St)</td>\n",
       "      <td>37.789625</td>\n",
       "      <td>-122.400811</td>\n",
       "      <td>13.0</td>\n",
       "      <td>Commercial St at Montgomery St</td>\n",
       "      <td>37.794231</td>\n",
       "      <td>...</td>\n",
       "      <td>Millennials</td>\n",
       "      <td>869</td>\n",
       "      <td>17</td>\n",
       "      <td>28</td>\n",
       "      <td>9</td>\n",
       "      <td>2</td>\n",
       "      <td>2019</td>\n",
       "      <td>3</td>\n",
       "      <td>Feb</td>\n",
       "      <td>Thursday</td>\n",
       "    </tr>\n",
       "    <tr>\n",
       "      <th>1</th>\n",
       "      <td>61854</td>\n",
       "      <td>2019-02-28 12:13:13.218</td>\n",
       "      <td>2019-03-01 05:24:08.146</td>\n",
       "      <td>86.0</td>\n",
       "      <td>Market St at Dolores St</td>\n",
       "      <td>37.769305</td>\n",
       "      <td>-122.426826</td>\n",
       "      <td>3.0</td>\n",
       "      <td>Powell St BART Station (Market St at 4th St)</td>\n",
       "      <td>37.786375</td>\n",
       "      <td>...</td>\n",
       "      <td>Gen X</td>\n",
       "      <td>1030</td>\n",
       "      <td>12</td>\n",
       "      <td>28</td>\n",
       "      <td>9</td>\n",
       "      <td>2</td>\n",
       "      <td>2019</td>\n",
       "      <td>3</td>\n",
       "      <td>Feb</td>\n",
       "      <td>Thursday</td>\n",
       "    </tr>\n",
       "    <tr>\n",
       "      <th>2</th>\n",
       "      <td>36490</td>\n",
       "      <td>2019-02-28 17:54:26.010</td>\n",
       "      <td>2019-03-01 04:02:36.842</td>\n",
       "      <td>375.0</td>\n",
       "      <td>Grove St at Masonic Ave</td>\n",
       "      <td>37.774836</td>\n",
       "      <td>-122.446546</td>\n",
       "      <td>70.0</td>\n",
       "      <td>Central Ave at Fell St</td>\n",
       "      <td>37.773311</td>\n",
       "      <td>...</td>\n",
       "      <td>Millennials</td>\n",
       "      <td>608</td>\n",
       "      <td>17</td>\n",
       "      <td>28</td>\n",
       "      <td>9</td>\n",
       "      <td>2</td>\n",
       "      <td>2019</td>\n",
       "      <td>3</td>\n",
       "      <td>Feb</td>\n",
       "      <td>Thursday</td>\n",
       "    </tr>\n",
       "    <tr>\n",
       "      <th>3</th>\n",
       "      <td>1585</td>\n",
       "      <td>2019-02-28 23:54:18.549</td>\n",
       "      <td>2019-03-01 00:20:44.074</td>\n",
       "      <td>7.0</td>\n",
       "      <td>Frank H Ogawa Plaza</td>\n",
       "      <td>37.804562</td>\n",
       "      <td>-122.271738</td>\n",
       "      <td>222.0</td>\n",
       "      <td>10th Ave at E 15th St</td>\n",
       "      <td>37.792714</td>\n",
       "      <td>...</td>\n",
       "      <td>Gen X</td>\n",
       "      <td>26</td>\n",
       "      <td>23</td>\n",
       "      <td>28</td>\n",
       "      <td>9</td>\n",
       "      <td>2</td>\n",
       "      <td>2019</td>\n",
       "      <td>3</td>\n",
       "      <td>Feb</td>\n",
       "      <td>Thursday</td>\n",
       "    </tr>\n",
       "    <tr>\n",
       "      <th>4</th>\n",
       "      <td>1793</td>\n",
       "      <td>2019-02-28 23:49:58.632</td>\n",
       "      <td>2019-03-01 00:19:51.760</td>\n",
       "      <td>93.0</td>\n",
       "      <td>4th St at Mission Bay Blvd S</td>\n",
       "      <td>37.770407</td>\n",
       "      <td>-122.391198</td>\n",
       "      <td>323.0</td>\n",
       "      <td>Broadway at Kearny</td>\n",
       "      <td>37.798014</td>\n",
       "      <td>...</td>\n",
       "      <td>Boomers II</td>\n",
       "      <td>29</td>\n",
       "      <td>23</td>\n",
       "      <td>28</td>\n",
       "      <td>9</td>\n",
       "      <td>2</td>\n",
       "      <td>2019</td>\n",
       "      <td>3</td>\n",
       "      <td>Feb</td>\n",
       "      <td>Thursday</td>\n",
       "    </tr>\n",
       "  </tbody>\n",
       "</table>\n",
       "<p>5 rows × 27 columns</p>\n",
       "</div>"
      ],
      "text/plain": [
       "   duration_sec              start_time                end_time  \\\n",
       "0         52185 2019-02-28 17:32:10.145 2019-03-01 08:01:55.975   \n",
       "1         61854 2019-02-28 12:13:13.218 2019-03-01 05:24:08.146   \n",
       "2         36490 2019-02-28 17:54:26.010 2019-03-01 04:02:36.842   \n",
       "3          1585 2019-02-28 23:54:18.549 2019-03-01 00:20:44.074   \n",
       "4          1793 2019-02-28 23:49:58.632 2019-03-01 00:19:51.760   \n",
       "\n",
       "  start_station_id                                start_station_name  \\\n",
       "0             21.0  Montgomery St BART Station (Market St at 2nd St)   \n",
       "1             86.0                           Market St at Dolores St   \n",
       "2            375.0                           Grove St at Masonic Ave   \n",
       "3              7.0                               Frank H Ogawa Plaza   \n",
       "4             93.0                      4th St at Mission Bay Blvd S   \n",
       "\n",
       "   start_station_latitude  start_station_longitude end_station_id  \\\n",
       "0               37.789625              -122.400811           13.0   \n",
       "1               37.769305              -122.426826            3.0   \n",
       "2               37.774836              -122.446546           70.0   \n",
       "3               37.804562              -122.271738          222.0   \n",
       "4               37.770407              -122.391198          323.0   \n",
       "\n",
       "                               end_station_name  end_station_latitude  \\\n",
       "0                Commercial St at Montgomery St             37.794231   \n",
       "1  Powell St BART Station (Market St at 4th St)             37.786375   \n",
       "2                        Central Ave at Fell St             37.773311   \n",
       "3                         10th Ave at E 15th St             37.792714   \n",
       "4                            Broadway at Kearny             37.798014   \n",
       "\n",
       "          ...            age_group duration_min start_time_hour  \\\n",
       "0         ...          Millennials          869              17   \n",
       "1         ...                Gen X         1030              12   \n",
       "2         ...          Millennials          608              17   \n",
       "3         ...                Gen X           26              23   \n",
       "4         ...           Boomers II           29              23   \n",
       "\n",
       "   start_time_day start_time_week start_month  start_time_year  \\\n",
       "0              28               9           2             2019   \n",
       "1              28               9           2             2019   \n",
       "2              28               9           2             2019   \n",
       "3              28               9           2             2019   \n",
       "4              28               9           2             2019   \n",
       "\n",
       "  start_time_day_of_week  start_time_month  start_time_weekday  \n",
       "0                      3               Feb            Thursday  \n",
       "1                      3               Feb            Thursday  \n",
       "2                      3               Feb            Thursday  \n",
       "3                      3               Feb            Thursday  \n",
       "4                      3               Feb            Thursday  \n",
       "\n",
       "[5 rows x 27 columns]"
      ]
     },
     "execution_count": 54,
     "metadata": {},
     "output_type": "execute_result"
    }
   ],
   "source": [
    "df_clean.head()"
   ]
  },
  {
   "cell_type": "code",
   "execution_count": 55,
   "metadata": {},
   "outputs": [],
   "source": [
    "# also, join end time table with df_clean\n",
    "df_clean = pd.merge(df_clean, end_time_df,\n",
    "                            on='end_time', how='left')"
   ]
  },
  {
   "cell_type": "code",
   "execution_count": 56,
   "metadata": {},
   "outputs": [],
   "source": [
    "# convert end time month to Gregorian calendar month\n",
    "df_clean['end_time_month'] = pd.to_datetime(df_clean['end_time'], format='%m').dt.month_name().str.slice(stop=3)"
   ]
  },
  {
   "cell_type": "code",
   "execution_count": 57,
   "metadata": {},
   "outputs": [],
   "source": [
    "# extract week day from end time\n",
    "df_clean['end_time_weekday'] = pd.to_datetime(df_clean['end_time'], format='%a').dt.day_name()"
   ]
  },
  {
   "cell_type": "code",
   "execution_count": 58,
   "metadata": {},
   "outputs": [
    {
     "data": {
      "text/html": [
       "<div>\n",
       "<style scoped>\n",
       "    .dataframe tbody tr th:only-of-type {\n",
       "        vertical-align: middle;\n",
       "    }\n",
       "\n",
       "    .dataframe tbody tr th {\n",
       "        vertical-align: top;\n",
       "    }\n",
       "\n",
       "    .dataframe thead th {\n",
       "        text-align: right;\n",
       "    }\n",
       "</style>\n",
       "<table border=\"1\" class=\"dataframe\">\n",
       "  <thead>\n",
       "    <tr style=\"text-align: right;\">\n",
       "      <th></th>\n",
       "      <th>duration_sec</th>\n",
       "      <th>start_time</th>\n",
       "      <th>end_time</th>\n",
       "      <th>start_station_id</th>\n",
       "      <th>start_station_name</th>\n",
       "      <th>start_station_latitude</th>\n",
       "      <th>start_station_longitude</th>\n",
       "      <th>end_station_id</th>\n",
       "      <th>end_station_name</th>\n",
       "      <th>end_station_latitude</th>\n",
       "      <th>...</th>\n",
       "      <th>start_time_month</th>\n",
       "      <th>start_time_weekday</th>\n",
       "      <th>end_time_hour</th>\n",
       "      <th>end_time_day</th>\n",
       "      <th>end_time_week</th>\n",
       "      <th>end_month</th>\n",
       "      <th>end_time_year</th>\n",
       "      <th>end_time_day_of_week</th>\n",
       "      <th>end_time_month</th>\n",
       "      <th>end_time_weekday</th>\n",
       "    </tr>\n",
       "  </thead>\n",
       "  <tbody>\n",
       "    <tr>\n",
       "      <th>0</th>\n",
       "      <td>52185</td>\n",
       "      <td>2019-02-28 17:32:10.145</td>\n",
       "      <td>2019-03-01 08:01:55.975</td>\n",
       "      <td>21.0</td>\n",
       "      <td>Montgomery St BART Station (Market St at 2nd St)</td>\n",
       "      <td>37.789625</td>\n",
       "      <td>-122.400811</td>\n",
       "      <td>13.0</td>\n",
       "      <td>Commercial St at Montgomery St</td>\n",
       "      <td>37.794231</td>\n",
       "      <td>...</td>\n",
       "      <td>Feb</td>\n",
       "      <td>Thursday</td>\n",
       "      <td>8</td>\n",
       "      <td>1</td>\n",
       "      <td>9</td>\n",
       "      <td>3</td>\n",
       "      <td>2019</td>\n",
       "      <td>4</td>\n",
       "      <td>Mar</td>\n",
       "      <td>Friday</td>\n",
       "    </tr>\n",
       "    <tr>\n",
       "      <th>1</th>\n",
       "      <td>61854</td>\n",
       "      <td>2019-02-28 12:13:13.218</td>\n",
       "      <td>2019-03-01 05:24:08.146</td>\n",
       "      <td>86.0</td>\n",
       "      <td>Market St at Dolores St</td>\n",
       "      <td>37.769305</td>\n",
       "      <td>-122.426826</td>\n",
       "      <td>3.0</td>\n",
       "      <td>Powell St BART Station (Market St at 4th St)</td>\n",
       "      <td>37.786375</td>\n",
       "      <td>...</td>\n",
       "      <td>Feb</td>\n",
       "      <td>Thursday</td>\n",
       "      <td>5</td>\n",
       "      <td>1</td>\n",
       "      <td>9</td>\n",
       "      <td>3</td>\n",
       "      <td>2019</td>\n",
       "      <td>4</td>\n",
       "      <td>Mar</td>\n",
       "      <td>Friday</td>\n",
       "    </tr>\n",
       "    <tr>\n",
       "      <th>2</th>\n",
       "      <td>36490</td>\n",
       "      <td>2019-02-28 17:54:26.010</td>\n",
       "      <td>2019-03-01 04:02:36.842</td>\n",
       "      <td>375.0</td>\n",
       "      <td>Grove St at Masonic Ave</td>\n",
       "      <td>37.774836</td>\n",
       "      <td>-122.446546</td>\n",
       "      <td>70.0</td>\n",
       "      <td>Central Ave at Fell St</td>\n",
       "      <td>37.773311</td>\n",
       "      <td>...</td>\n",
       "      <td>Feb</td>\n",
       "      <td>Thursday</td>\n",
       "      <td>4</td>\n",
       "      <td>1</td>\n",
       "      <td>9</td>\n",
       "      <td>3</td>\n",
       "      <td>2019</td>\n",
       "      <td>4</td>\n",
       "      <td>Mar</td>\n",
       "      <td>Friday</td>\n",
       "    </tr>\n",
       "    <tr>\n",
       "      <th>3</th>\n",
       "      <td>1585</td>\n",
       "      <td>2019-02-28 23:54:18.549</td>\n",
       "      <td>2019-03-01 00:20:44.074</td>\n",
       "      <td>7.0</td>\n",
       "      <td>Frank H Ogawa Plaza</td>\n",
       "      <td>37.804562</td>\n",
       "      <td>-122.271738</td>\n",
       "      <td>222.0</td>\n",
       "      <td>10th Ave at E 15th St</td>\n",
       "      <td>37.792714</td>\n",
       "      <td>...</td>\n",
       "      <td>Feb</td>\n",
       "      <td>Thursday</td>\n",
       "      <td>0</td>\n",
       "      <td>1</td>\n",
       "      <td>9</td>\n",
       "      <td>3</td>\n",
       "      <td>2019</td>\n",
       "      <td>4</td>\n",
       "      <td>Mar</td>\n",
       "      <td>Friday</td>\n",
       "    </tr>\n",
       "    <tr>\n",
       "      <th>4</th>\n",
       "      <td>1793</td>\n",
       "      <td>2019-02-28 23:49:58.632</td>\n",
       "      <td>2019-03-01 00:19:51.760</td>\n",
       "      <td>93.0</td>\n",
       "      <td>4th St at Mission Bay Blvd S</td>\n",
       "      <td>37.770407</td>\n",
       "      <td>-122.391198</td>\n",
       "      <td>323.0</td>\n",
       "      <td>Broadway at Kearny</td>\n",
       "      <td>37.798014</td>\n",
       "      <td>...</td>\n",
       "      <td>Feb</td>\n",
       "      <td>Thursday</td>\n",
       "      <td>0</td>\n",
       "      <td>1</td>\n",
       "      <td>9</td>\n",
       "      <td>3</td>\n",
       "      <td>2019</td>\n",
       "      <td>4</td>\n",
       "      <td>Mar</td>\n",
       "      <td>Friday</td>\n",
       "    </tr>\n",
       "  </tbody>\n",
       "</table>\n",
       "<p>5 rows × 35 columns</p>\n",
       "</div>"
      ],
      "text/plain": [
       "   duration_sec              start_time                end_time  \\\n",
       "0         52185 2019-02-28 17:32:10.145 2019-03-01 08:01:55.975   \n",
       "1         61854 2019-02-28 12:13:13.218 2019-03-01 05:24:08.146   \n",
       "2         36490 2019-02-28 17:54:26.010 2019-03-01 04:02:36.842   \n",
       "3          1585 2019-02-28 23:54:18.549 2019-03-01 00:20:44.074   \n",
       "4          1793 2019-02-28 23:49:58.632 2019-03-01 00:19:51.760   \n",
       "\n",
       "  start_station_id                                start_station_name  \\\n",
       "0             21.0  Montgomery St BART Station (Market St at 2nd St)   \n",
       "1             86.0                           Market St at Dolores St   \n",
       "2            375.0                           Grove St at Masonic Ave   \n",
       "3              7.0                               Frank H Ogawa Plaza   \n",
       "4             93.0                      4th St at Mission Bay Blvd S   \n",
       "\n",
       "   start_station_latitude  start_station_longitude end_station_id  \\\n",
       "0               37.789625              -122.400811           13.0   \n",
       "1               37.769305              -122.426826            3.0   \n",
       "2               37.774836              -122.446546           70.0   \n",
       "3               37.804562              -122.271738          222.0   \n",
       "4               37.770407              -122.391198          323.0   \n",
       "\n",
       "                               end_station_name  end_station_latitude  \\\n",
       "0                Commercial St at Montgomery St             37.794231   \n",
       "1  Powell St BART Station (Market St at 4th St)             37.786375   \n",
       "2                        Central Ave at Fell St             37.773311   \n",
       "3                         10th Ave at E 15th St             37.792714   \n",
       "4                            Broadway at Kearny             37.798014   \n",
       "\n",
       "         ...         start_time_month start_time_weekday end_time_hour  \\\n",
       "0        ...                      Feb           Thursday             8   \n",
       "1        ...                      Feb           Thursday             5   \n",
       "2        ...                      Feb           Thursday             4   \n",
       "3        ...                      Feb           Thursday             0   \n",
       "4        ...                      Feb           Thursday             0   \n",
       "\n",
       "   end_time_day end_time_week end_month  end_time_year end_time_day_of_week  \\\n",
       "0             1             9         3           2019                    4   \n",
       "1             1             9         3           2019                    4   \n",
       "2             1             9         3           2019                    4   \n",
       "3             1             9         3           2019                    4   \n",
       "4             1             9         3           2019                    4   \n",
       "\n",
       "   end_time_month  end_time_weekday  \n",
       "0             Mar            Friday  \n",
       "1             Mar            Friday  \n",
       "2             Mar            Friday  \n",
       "3             Mar            Friday  \n",
       "4             Mar            Friday  \n",
       "\n",
       "[5 rows x 35 columns]"
      ]
     },
     "execution_count": 58,
     "metadata": {},
     "output_type": "execute_result"
    }
   ],
   "source": [
    "df_clean.head()"
   ]
  },
  {
   "cell_type": "code",
   "execution_count": 59,
   "metadata": {},
   "outputs": [],
   "source": [
    "# create new column for year\n",
    "df_clean['trip_year'] = df_clean['start_time'].dt.year\n",
    "\n",
    "#drop the former column\n",
    "df_clean = df_clean.drop('start_time_year', axis=1)"
   ]
  },
  {
   "cell_type": "code",
   "execution_count": 60,
   "metadata": {},
   "outputs": [
    {
     "name": "stdout",
     "output_type": "stream",
     "text": [
      "<class 'pandas.core.frame.DataFrame'>\n",
      "Int64Index: 175194 entries, 0 to 175193\n",
      "Data columns (total 35 columns):\n",
      "duration_sec               175194 non-null int64\n",
      "start_time                 175194 non-null datetime64[ns]\n",
      "end_time                   175194 non-null datetime64[ns]\n",
      "start_station_id           175194 non-null object\n",
      "start_station_name         174999 non-null object\n",
      "start_station_latitude     175194 non-null float64\n",
      "start_station_longitude    175194 non-null float64\n",
      "end_station_id             175194 non-null object\n",
      "end_station_name           174999 non-null object\n",
      "end_station_latitude       175194 non-null float64\n",
      "end_station_longitude      175194 non-null float64\n",
      "bike_id                    175194 non-null object\n",
      "user_type                  175194 non-null category\n",
      "member_birth_year          175194 non-null int64\n",
      "member_gender              175194 non-null category\n",
      "bike_share_for_all_trip    175194 non-null category\n",
      "member_age                 175194 non-null int64\n",
      "age_group                  175194 non-null category\n",
      "duration_min               175194 non-null int64\n",
      "start_time_hour            175194 non-null int64\n",
      "start_time_day             175194 non-null int64\n",
      "start_time_week            175194 non-null int64\n",
      "start_month                175194 non-null int64\n",
      "start_time_day_of_week     175194 non-null int64\n",
      "start_time_month           175194 non-null object\n",
      "start_time_weekday         175194 non-null object\n",
      "end_time_hour              175194 non-null int64\n",
      "end_time_day               175194 non-null int64\n",
      "end_time_week              175194 non-null int64\n",
      "end_month                  175194 non-null int64\n",
      "end_time_year              175194 non-null int64\n",
      "end_time_day_of_week       175194 non-null int64\n",
      "end_time_month             175194 non-null object\n",
      "end_time_weekday           175194 non-null object\n",
      "trip_year                  175194 non-null int64\n",
      "dtypes: category(4), datetime64[ns](2), float64(4), int64(16), object(9)\n",
      "memory usage: 43.4+ MB\n"
     ]
    }
   ],
   "source": [
    "df_clean.info()"
   ]
  },
  {
   "cell_type": "code",
   "execution_count": 61,
   "metadata": {},
   "outputs": [],
   "source": [
    "# drop the columns that are not needed\n",
    "df_clean = df_clean.drop(['start_time_week', \n",
    "                          'start_time_day', \n",
    "                          'start_time_day_of_week', \n",
    "                          'start_month', \n",
    "                          'end_time_day', \n",
    "                          'end_time_week', \n",
    "                          'end_time_day_of_week', \n",
    "                          'end_time_year', \n",
    "                          'end_month', 'trip_year'], axis =1)"
   ]
  },
  {
   "cell_type": "code",
   "execution_count": 62,
   "metadata": {},
   "outputs": [
    {
     "name": "stdout",
     "output_type": "stream",
     "text": [
      "<class 'pandas.core.frame.DataFrame'>\n",
      "Int64Index: 175194 entries, 0 to 175193\n",
      "Data columns (total 25 columns):\n",
      "duration_sec               175194 non-null int64\n",
      "start_time                 175194 non-null datetime64[ns]\n",
      "end_time                   175194 non-null datetime64[ns]\n",
      "start_station_id           175194 non-null object\n",
      "start_station_name         174999 non-null object\n",
      "start_station_latitude     175194 non-null float64\n",
      "start_station_longitude    175194 non-null float64\n",
      "end_station_id             175194 non-null object\n",
      "end_station_name           174999 non-null object\n",
      "end_station_latitude       175194 non-null float64\n",
      "end_station_longitude      175194 non-null float64\n",
      "bike_id                    175194 non-null object\n",
      "user_type                  175194 non-null category\n",
      "member_birth_year          175194 non-null int64\n",
      "member_gender              175194 non-null category\n",
      "bike_share_for_all_trip    175194 non-null category\n",
      "member_age                 175194 non-null int64\n",
      "age_group                  175194 non-null category\n",
      "duration_min               175194 non-null int64\n",
      "start_time_hour            175194 non-null int64\n",
      "start_time_month           175194 non-null object\n",
      "start_time_weekday         175194 non-null object\n",
      "end_time_hour              175194 non-null int64\n",
      "end_time_month             175194 non-null object\n",
      "end_time_weekday           175194 non-null object\n",
      "dtypes: category(4), datetime64[ns](2), float64(4), int64(6), object(9)\n",
      "memory usage: 30.1+ MB\n"
     ]
    }
   ],
   "source": [
    "df_clean.info()"
   ]
  },
  {
   "cell_type": "markdown",
   "metadata": {},
   "source": [
    "***Calculating distance from the given longitude and latitude***"
   ]
  },
  {
   "cell_type": "code",
   "execution_count": 63,
   "metadata": {},
   "outputs": [],
   "source": [
    "# use the haversine formula to calculate the distance between pairs of lat/lon positions\n",
    "\n",
    "def haversine_np(start_station_longitude, start_station_latitude, \n",
    "                 end_station_longitude, end_station_latitude):\n",
    "    \"\"\"\n",
    "    Calculate the great circle distance between two points\n",
    "    on the earth (specified in decimal degrees)\n",
    "\n",
    "    All args must be of equal length.    \n",
    "\n",
    "    \"\"\"\n",
    "    start_station_longitude, start_station_latitude, end_station_longitude, end_station_latitude = map(np.radians, [start_station_longitude, \n",
    "                                                                                                                    start_station_latitude, \n",
    "                                                                                                                    end_station_longitude, \n",
    "                                                                                                                    end_station_latitude])\n",
    "\n",
    "    dlon = end_station_longitude - start_station_longitude\n",
    "    dlat = end_station_latitude - start_station_latitude\n",
    "\n",
    "    a = np.sin(dlat/2.0)**2 + np.cos(start_station_latitude) * np.cos(end_station_latitude) * np.sin(dlon/2.0)**2\n",
    "\n",
    "    c = 2 * np.arcsin(np.sqrt(a))\n",
    "    km = 6367 * c\n",
    "    return km"
   ]
  },
  {
   "cell_type": "code",
   "execution_count": 64,
   "metadata": {},
   "outputs": [],
   "source": [
    "# create a new column for distance in km\n",
    "df_clean['distance_km'] = haversine_np(df_clean['start_station_longitude'], \n",
    "                                    df_clean['start_station_latitude'], \n",
    "                                    df_clean['end_station_longitude'], \n",
    "                                    df_clean['end_station_latitude'])"
   ]
  },
  {
   "cell_type": "code",
   "execution_count": 65,
   "metadata": {},
   "outputs": [],
   "source": [
    "# convert distance from km to miles\n",
    "df_clean['distance_miles'] = df_clean['distance_km'] * 0.621371\n",
    "df_clean = df_clean.drop('distance_km', axis = 1)"
   ]
  },
  {
   "cell_type": "code",
   "execution_count": 66,
   "metadata": {},
   "outputs": [
    {
     "data": {
      "text/html": [
       "<div>\n",
       "<style scoped>\n",
       "    .dataframe tbody tr th:only-of-type {\n",
       "        vertical-align: middle;\n",
       "    }\n",
       "\n",
       "    .dataframe tbody tr th {\n",
       "        vertical-align: top;\n",
       "    }\n",
       "\n",
       "    .dataframe thead th {\n",
       "        text-align: right;\n",
       "    }\n",
       "</style>\n",
       "<table border=\"1\" class=\"dataframe\">\n",
       "  <thead>\n",
       "    <tr style=\"text-align: right;\">\n",
       "      <th></th>\n",
       "      <th>duration_sec</th>\n",
       "      <th>start_time</th>\n",
       "      <th>end_time</th>\n",
       "      <th>start_station_id</th>\n",
       "      <th>start_station_name</th>\n",
       "      <th>start_station_latitude</th>\n",
       "      <th>start_station_longitude</th>\n",
       "      <th>end_station_id</th>\n",
       "      <th>end_station_name</th>\n",
       "      <th>end_station_latitude</th>\n",
       "      <th>...</th>\n",
       "      <th>member_age</th>\n",
       "      <th>age_group</th>\n",
       "      <th>duration_min</th>\n",
       "      <th>start_time_hour</th>\n",
       "      <th>start_time_month</th>\n",
       "      <th>start_time_weekday</th>\n",
       "      <th>end_time_hour</th>\n",
       "      <th>end_time_month</th>\n",
       "      <th>end_time_weekday</th>\n",
       "      <th>distance_miles</th>\n",
       "    </tr>\n",
       "  </thead>\n",
       "  <tbody>\n",
       "    <tr>\n",
       "      <th>0</th>\n",
       "      <td>52185</td>\n",
       "      <td>2019-02-28 17:32:10.145</td>\n",
       "      <td>2019-03-01 08:01:55.975</td>\n",
       "      <td>21.0</td>\n",
       "      <td>Montgomery St BART Station (Market St at 2nd St)</td>\n",
       "      <td>37.789625</td>\n",
       "      <td>-122.400811</td>\n",
       "      <td>13.0</td>\n",
       "      <td>Commercial St at Montgomery St</td>\n",
       "      <td>37.794231</td>\n",
       "      <td>...</td>\n",
       "      <td>35</td>\n",
       "      <td>Millennials</td>\n",
       "      <td>869</td>\n",
       "      <td>17</td>\n",
       "      <td>Feb</td>\n",
       "      <td>Thursday</td>\n",
       "      <td>8</td>\n",
       "      <td>Mar</td>\n",
       "      <td>Friday</td>\n",
       "      <td>0.338254</td>\n",
       "    </tr>\n",
       "    <tr>\n",
       "      <th>1</th>\n",
       "      <td>61854</td>\n",
       "      <td>2019-02-28 12:13:13.218</td>\n",
       "      <td>2019-03-01 05:24:08.146</td>\n",
       "      <td>86.0</td>\n",
       "      <td>Market St at Dolores St</td>\n",
       "      <td>37.769305</td>\n",
       "      <td>-122.426826</td>\n",
       "      <td>3.0</td>\n",
       "      <td>Powell St BART Station (Market St at 4th St)</td>\n",
       "      <td>37.786375</td>\n",
       "      <td>...</td>\n",
       "      <td>47</td>\n",
       "      <td>Gen X</td>\n",
       "      <td>1030</td>\n",
       "      <td>12</td>\n",
       "      <td>Feb</td>\n",
       "      <td>Thursday</td>\n",
       "      <td>5</td>\n",
       "      <td>Mar</td>\n",
       "      <td>Friday</td>\n",
       "      <td>1.679471</td>\n",
       "    </tr>\n",
       "    <tr>\n",
       "      <th>2</th>\n",
       "      <td>36490</td>\n",
       "      <td>2019-02-28 17:54:26.010</td>\n",
       "      <td>2019-03-01 04:02:36.842</td>\n",
       "      <td>375.0</td>\n",
       "      <td>Grove St at Masonic Ave</td>\n",
       "      <td>37.774836</td>\n",
       "      <td>-122.446546</td>\n",
       "      <td>70.0</td>\n",
       "      <td>Central Ave at Fell St</td>\n",
       "      <td>37.773311</td>\n",
       "      <td>...</td>\n",
       "      <td>30</td>\n",
       "      <td>Millennials</td>\n",
       "      <td>608</td>\n",
       "      <td>17</td>\n",
       "      <td>Feb</td>\n",
       "      <td>Thursday</td>\n",
       "      <td>4</td>\n",
       "      <td>Mar</td>\n",
       "      <td>Friday</td>\n",
       "      <td>0.161914</td>\n",
       "    </tr>\n",
       "    <tr>\n",
       "      <th>3</th>\n",
       "      <td>1585</td>\n",
       "      <td>2019-02-28 23:54:18.549</td>\n",
       "      <td>2019-03-01 00:20:44.074</td>\n",
       "      <td>7.0</td>\n",
       "      <td>Frank H Ogawa Plaza</td>\n",
       "      <td>37.804562</td>\n",
       "      <td>-122.271738</td>\n",
       "      <td>222.0</td>\n",
       "      <td>10th Ave at E 15th St</td>\n",
       "      <td>37.792714</td>\n",
       "      <td>...</td>\n",
       "      <td>45</td>\n",
       "      <td>Gen X</td>\n",
       "      <td>26</td>\n",
       "      <td>23</td>\n",
       "      <td>Feb</td>\n",
       "      <td>Thursday</td>\n",
       "      <td>0</td>\n",
       "      <td>Mar</td>\n",
       "      <td>Friday</td>\n",
       "      <td>1.496130</td>\n",
       "    </tr>\n",
       "    <tr>\n",
       "      <th>4</th>\n",
       "      <td>1793</td>\n",
       "      <td>2019-02-28 23:49:58.632</td>\n",
       "      <td>2019-03-01 00:19:51.760</td>\n",
       "      <td>93.0</td>\n",
       "      <td>4th St at Mission Bay Blvd S</td>\n",
       "      <td>37.770407</td>\n",
       "      <td>-122.391198</td>\n",
       "      <td>323.0</td>\n",
       "      <td>Broadway at Kearny</td>\n",
       "      <td>37.798014</td>\n",
       "      <td>...</td>\n",
       "      <td>60</td>\n",
       "      <td>Boomers II</td>\n",
       "      <td>29</td>\n",
       "      <td>23</td>\n",
       "      <td>Feb</td>\n",
       "      <td>Thursday</td>\n",
       "      <td>0</td>\n",
       "      <td>Mar</td>\n",
       "      <td>Friday</td>\n",
       "      <td>2.069234</td>\n",
       "    </tr>\n",
       "  </tbody>\n",
       "</table>\n",
       "<p>5 rows × 26 columns</p>\n",
       "</div>"
      ],
      "text/plain": [
       "   duration_sec              start_time                end_time  \\\n",
       "0         52185 2019-02-28 17:32:10.145 2019-03-01 08:01:55.975   \n",
       "1         61854 2019-02-28 12:13:13.218 2019-03-01 05:24:08.146   \n",
       "2         36490 2019-02-28 17:54:26.010 2019-03-01 04:02:36.842   \n",
       "3          1585 2019-02-28 23:54:18.549 2019-03-01 00:20:44.074   \n",
       "4          1793 2019-02-28 23:49:58.632 2019-03-01 00:19:51.760   \n",
       "\n",
       "  start_station_id                                start_station_name  \\\n",
       "0             21.0  Montgomery St BART Station (Market St at 2nd St)   \n",
       "1             86.0                           Market St at Dolores St   \n",
       "2            375.0                           Grove St at Masonic Ave   \n",
       "3              7.0                               Frank H Ogawa Plaza   \n",
       "4             93.0                      4th St at Mission Bay Blvd S   \n",
       "\n",
       "   start_station_latitude  start_station_longitude end_station_id  \\\n",
       "0               37.789625              -122.400811           13.0   \n",
       "1               37.769305              -122.426826            3.0   \n",
       "2               37.774836              -122.446546           70.0   \n",
       "3               37.804562              -122.271738          222.0   \n",
       "4               37.770407              -122.391198          323.0   \n",
       "\n",
       "                               end_station_name  end_station_latitude  \\\n",
       "0                Commercial St at Montgomery St             37.794231   \n",
       "1  Powell St BART Station (Market St at 4th St)             37.786375   \n",
       "2                        Central Ave at Fell St             37.773311   \n",
       "3                         10th Ave at E 15th St             37.792714   \n",
       "4                            Broadway at Kearny             37.798014   \n",
       "\n",
       "        ...        member_age    age_group duration_min  start_time_hour  \\\n",
       "0       ...                35  Millennials          869               17   \n",
       "1       ...                47        Gen X         1030               12   \n",
       "2       ...                30  Millennials          608               17   \n",
       "3       ...                45        Gen X           26               23   \n",
       "4       ...                60   Boomers II           29               23   \n",
       "\n",
       "  start_time_month start_time_weekday  end_time_hour end_time_month  \\\n",
       "0              Feb           Thursday              8            Mar   \n",
       "1              Feb           Thursday              5            Mar   \n",
       "2              Feb           Thursday              4            Mar   \n",
       "3              Feb           Thursday              0            Mar   \n",
       "4              Feb           Thursday              0            Mar   \n",
       "\n",
       "   end_time_weekday  distance_miles  \n",
       "0            Friday        0.338254  \n",
       "1            Friday        1.679471  \n",
       "2            Friday        0.161914  \n",
       "3            Friday        1.496130  \n",
       "4            Friday        2.069234  \n",
       "\n",
       "[5 rows x 26 columns]"
      ]
     },
     "execution_count": 66,
     "metadata": {},
     "output_type": "execute_result"
    }
   ],
   "source": [
    "df_clean.head()"
   ]
  },
  {
   "cell_type": "code",
   "execution_count": 67,
   "metadata": {},
   "outputs": [],
   "source": [
    "# drop the columns that are not needed\n",
    "df_clean = df_clean.drop(['start_station_latitude', \n",
    "                          'start_station_longitude', \n",
    "                          'end_station_latitude',\n",
    "                          'end_station_longitude'], axis =1)"
   ]
  },
  {
   "cell_type": "code",
   "execution_count": 68,
   "metadata": {},
   "outputs": [
    {
     "name": "stdout",
     "output_type": "stream",
     "text": [
      "<class 'pandas.core.frame.DataFrame'>\n",
      "Int64Index: 175194 entries, 0 to 175193\n",
      "Data columns (total 22 columns):\n",
      "duration_sec               175194 non-null int64\n",
      "start_time                 175194 non-null datetime64[ns]\n",
      "end_time                   175194 non-null datetime64[ns]\n",
      "start_station_id           175194 non-null object\n",
      "start_station_name         174999 non-null object\n",
      "end_station_id             175194 non-null object\n",
      "end_station_name           174999 non-null object\n",
      "bike_id                    175194 non-null object\n",
      "user_type                  175194 non-null category\n",
      "member_birth_year          175194 non-null int64\n",
      "member_gender              175194 non-null category\n",
      "bike_share_for_all_trip    175194 non-null category\n",
      "member_age                 175194 non-null int64\n",
      "age_group                  175194 non-null category\n",
      "duration_min               175194 non-null int64\n",
      "start_time_hour            175194 non-null int64\n",
      "start_time_month           175194 non-null object\n",
      "start_time_weekday         175194 non-null object\n",
      "end_time_hour              175194 non-null int64\n",
      "end_time_month             175194 non-null object\n",
      "end_time_weekday           175194 non-null object\n",
      "distance_miles             175194 non-null float64\n",
      "dtypes: category(4), datetime64[ns](2), float64(1), int64(6), object(9)\n",
      "memory usage: 26.1+ MB\n"
     ]
    }
   ],
   "source": [
    "df_clean.info()"
   ]
  },
  {
   "cell_type": "code",
   "execution_count": 69,
   "metadata": {},
   "outputs": [],
   "source": [
    "# store the clean data into a csv  file\n",
    "df_clean.to_csv('fordgobike_tripdata_clean.csv', index = False)"
   ]
  },
  {
   "cell_type": "markdown",
   "metadata": {},
   "source": [
    "### What is the structure of your dataset?\n",
    "\n",
    "There are 175,194 bike trips and 22 features in the dataset. \n",
    "\n",
    "\n",
    "Each trip is anonymized and includes:\n",
    "\n",
    "- Trip Duration (seconds)\n",
    "- Start Time and Date\n",
    "- End Time and Date\n",
    "- Start Station ID\n",
    "- Start Station Name\n",
    "- Start Station Latitude (Dropped)\n",
    "- Start Station Longitude (Dropped)\n",
    "- End Station ID\n",
    "- End Station Name\n",
    "- End Station Latitude (Dropped)\n",
    "- End Station Longitude (Dropped)\n",
    "- Bike ID\n",
    "- User Type (Subscriber or Customer – “Subscriber” = Member or “Customer” = Casual)\n",
    "- Member Gender\n",
    "- Bike Share For All Trip\n",
    "\n",
    "Created features:\n",
    "\n",
    "- Age Group\n",
    "- Trip Duration (minutes)\n",
    "- Start Time (hours)\n",
    "- Start Time Month (February)\n",
    "- Start Time Day of the Week\n",
    "- End Time (hours)\n",
    "- End Time Month (February or March)\n",
    "- End Time Day of the Week\n",
    "- Distance (miles)\n",
    "\n",
    "\n",
    "13 variables are numerics, but User type (Customer or Subscriber), Member Gender (Male or Female or Other) and Bike share for all trip (Yes or No) are categoricals (with no ordered factors).\n",
    "\n",
    "### What is/are the main feature(s) of interest in your dataset?\n",
    "\n",
    "I'm most interested in figuring out what features are best for predicting the demand of bike share and the profitable users of bike share in the dataset. \n",
    "\n",
    "### What features in the dataset do you think will help support your investigation into your feature(s) of interest?\n",
    "\n",
    "I expect that Start time (hour), Start time (weekday), End time (hour), End time (weekday), and Member age will have the strongest effect on bikes demand. Member age and User type as well as Member age and Bike share for all trip will reveal trends associated with users within a particular age group. "
   ]
  },
  {
   "cell_type": "markdown",
   "metadata": {},
   "source": [
    "## Univariate Exploration\n",
    "\n",
    "In this section, I investigate distributions of individual variables and prepare to look at relationships between variables."
   ]
  },
  {
   "cell_type": "code",
   "execution_count": 70,
   "metadata": {},
   "outputs": [],
   "source": [
    "# import necessary libaries\n",
    "import datetime \n",
    "import matplotlib.pyplot as plt\n",
    "%matplotlib inline\n",
    "import seaborn as sb\n",
    "\n",
    "# load the clean data\n",
    "bike = pd.read_csv('fordgobike_tripdata_clean.csv')"
   ]
  },
  {
   "cell_type": "markdown",
   "metadata": {},
   "source": [
    "I'll start by looking at each variable of interest. By investigating these variables, it will go along way to discover trends and find relationships between the variables  "
   ]
  },
  {
   "cell_type": "code",
   "execution_count": 71,
   "metadata": {},
   "outputs": [
    {
     "data": {
      "text/plain": [
       "count    175194.000000\n",
       "mean        704.200264\n",
       "std        1641.398134\n",
       "min          61.000000\n",
       "50%         510.000000\n",
       "99%        3178.000000\n",
       "max       84548.000000\n",
       "Name: duration_sec, dtype: float64"
      ]
     },
     "execution_count": 71,
     "metadata": {},
     "output_type": "execute_result"
    }
   ],
   "source": [
    "bike.duration_sec.describe(percentiles = [.99])"
   ]
  },
  {
   "cell_type": "code",
   "execution_count": 72,
   "metadata": {},
   "outputs": [
    {
     "data": {
      "image/png": "[encoded data removed]",
      "text/plain": [
       "<matplotlib.figure.Figure at 0x7f010c4d1f60>"
      ]
     },
     "metadata": {
      "needs_background": "light"
     },
     "output_type": "display_data"
    }
   ],
   "source": [
    "# plot duration in seconds on a standard scale\n",
    "bin_edges = np.arange(0, 3600, 60)\n",
    "\n",
    "plt.figure(figsize=[8, 5])\n",
    "plt.hist(data = bike, x = 'duration_sec', bins = bin_edges)\n",
    "plt.title('Bike Trip Duration in Seconds')\n",
    "plt.xlabel('Duration in Seconds')\n",
    "plt.ylabel('Bike Trip')\n",
    "plt.show()"
   ]
  },
  {
   "cell_type": "code",
   "execution_count": 73,
   "metadata": {},
   "outputs": [
    {
     "data": {
      "text/plain": [
       "count    5.243519\n",
       "mean     2.847696\n",
       "std      3.215214\n",
       "min      1.785330\n",
       "25%      2.509203\n",
       "50%      2.707570\n",
       "75%      2.897077\n",
       "max      4.927103\n",
       "Name: duration_sec, dtype: float64"
      ]
     },
     "execution_count": 73,
     "metadata": {},
     "output_type": "execute_result"
    }
   ],
   "source": [
    "# there is a long tail in the distribution, so let's put it on a log scale instead \n",
    "# transform the describe() to a scale of log10\n",
    "np.log10(bike['duration_sec'].describe())"
   ]
  },
  {
   "cell_type": "code",
   "execution_count": 74,
   "metadata": {},
   "outputs": [
    {
     "data": {
      "image/png": "[encoded data removed]",
      "text/plain": [
       "<matplotlib.figure.Figure at 0x7f010bec0c88>"
      ]
     },
     "metadata": {
      "needs_background": "light"
     },
     "output_type": "display_data"
    }
   ],
   "source": [
    "# univariate plot of bike trip duration in second\n",
    "log_binsize = 0.04\n",
    "bins = 10 ** np.arange(1.7, np.log10(bike['duration_sec'].max())+log_binsize, log_binsize)\n",
    "\n",
    "plt.figure(figsize=[8, 5])\n",
    "plt.hist(data = bike, x = 'duration_sec', bins = bins)\n",
    "plt.xscale('log')\n",
    "plt.xticks([100, 300, 900, 3000, 9000], ['100', '300', '900', '3000', '9000'])\n",
    "plt.xlabel('Duration in Seconds')\n",
    "plt.ylabel('Bike Trip')\n",
    "plt.title ('Bike Trip Duration in Seconds')\n",
    "plt.show()"
   ]
  },
  {
   "cell_type": "markdown",
   "metadata": {},
   "source": [
    "Duration in seconds has a long-tailed distribution, with a lot of bike trips on the low duration end, and a few on the high duration end. When plotted on a log-scale, the duaration distribution looks unimodal and has a peak between 300 and 900. It is obvious that bike trips are usually within an hour mark (3600 seconds). This will help to further investigate user's behavior that determine demand of bike share."
   ]
  },
  {
   "cell_type": "markdown",
   "metadata": {},
   "source": [
    "Let's see disturibution for duration in minutes "
   ]
  },
  {
   "cell_type": "code",
   "execution_count": 75,
   "metadata": {},
   "outputs": [
    {
     "data": {
      "text/plain": [
       "count    175194.000000\n",
       "mean         11.244786\n",
       "std          27.357850\n",
       "min           1.000000\n",
       "50%           8.000000\n",
       "99%          52.000000\n",
       "max        1409.000000\n",
       "Name: duration_min, dtype: float64"
      ]
     },
     "execution_count": 75,
     "metadata": {},
     "output_type": "execute_result"
    }
   ],
   "source": [
    "bike.duration_min.describe(percentiles = [.99])"
   ]
  },
  {
   "cell_type": "code",
   "execution_count": 76,
   "metadata": {},
   "outputs": [
    {
     "data": {
      "image/png": "[encoded data removed]",
      "text/plain": [
       "<matplotlib.figure.Figure at 0x7f011449cb70>"
      ]
     },
     "metadata": {
      "needs_background": "light"
     },
     "output_type": "display_data"
    }
   ],
   "source": [
    "# plotting duration in minutes on a standard scale\n",
    "bin_edges = np.arange(0, 53, 1)\n",
    "\n",
    "plt.figure(figsize=[8, 5])\n",
    "plt.hist(data = bike, x = 'duration_min', bins = bin_edges)\n",
    "plt.title('Bike Trip Duration in Minutes')\n",
    "plt.xlabel('Duration in Minutes')\n",
    "plt.ylabel('Bike Trip')\n",
    "plt.show()"
   ]
  },
  {
   "cell_type": "markdown",
   "metadata": {},
   "source": [
    "Duration in minutes has a long-tailed distribution, with a lot of bike trips on the low duration end, and a few on the high duration end. There is a peak between 5 and 7 minutes and the duration distribution has ramp down towards high duration end"
   ]
  },
  {
   "cell_type": "code",
   "execution_count": 77,
   "metadata": {},
   "outputs": [
    {
     "data": {
      "image/png": "[encoded data removed]",
      "text/plain": [
       "<matplotlib.figure.Figure at 0x7f0109bfe2e8>"
      ]
     },
     "metadata": {
      "needs_background": "light"
     },
     "output_type": "display_data"
    }
   ],
   "source": [
    "# plotting with a different bin size and tick labels\n",
    "bin_edges = np.arange(0, 45, 1)\n",
    "ticks = [0, 5, 10, 15, 20, 25, 30,  35, 40, 45]\n",
    "labels = ['{}'.format(val) for val in ticks]\n",
    "\n",
    "plt.figure(figsize=[8, 5])\n",
    "plt.hist(data = bike, x = 'duration_min', bins = bin_edges, rwidth = 0.6);\n",
    "\n",
    "plt.title(\"Bike Trip Duaration in Minutes\")\n",
    "plt.xlabel('Duration in Minutes')\n",
    "plt.ylabel('Bike Trip')\n",
    "plt.xticks(ticks, labels)\n",
    "plt.show()"
   ]
  },
  {
   "cell_type": "markdown",
   "metadata": {},
   "source": [
    "Looking at the distribution, bike trip on average is between 4 and 10 minute range, with 75% of trips being under 14 minutes. This suggests that users are taking the bikes on short distances."
   ]
  },
  {
   "cell_type": "code",
   "execution_count": 78,
   "metadata": {},
   "outputs": [
    {
     "data": {
      "image/png": "[encoded data removed]",
      "text/plain": [
       "<matplotlib.figure.Figure at 0x7f0109c37f28>"
      ]
     },
     "metadata": {
      "needs_background": "light"
     },
     "output_type": "display_data"
    }
   ],
   "source": [
    "# plotting bike trip start hour of the day\n",
    "# bike trip end hour\n",
    "fig, ax = plt.subplots(nrows=2, figsize = [8,8])\n",
    "\n",
    "default_color = sb.color_palette()[0]\n",
    "sb.countplot(data = bike, x = 'start_time_hour', color = default_color, ax=ax[0])\n",
    "sb.countplot(data = bike, x = 'end_time_hour', color = default_color, ax=ax[1])\n",
    "\n",
    "plt.show()"
   ]
  },
  {
   "cell_type": "markdown",
   "metadata": {},
   "source": [
    "Interstingly, The distributions look similar and are both bimodal, with a peak in 8 (8am) and another in 17 (5pm). This reveals that users are more of working class that leave for work in the morning and come back home in the evening. Another interesting fact is that users in this category ride less than an hour and that is why both start time and end time peak at the same hour mark"
   ]
  },
  {
   "cell_type": "code",
   "execution_count": 79,
   "metadata": {},
   "outputs": [],
   "source": [
    "# convert start time weekday into ordered categorical type\n",
    "ordinal_var_dict = {'start_time_weekday': ['Monday', 'Tuesday', 'Wednesday', 'Thursday', 'Friday', 'Saturday', 'Sunday'], \n",
    "                    'age_group': ['Gen Z', 'Millennials', 'Gen X', 'Boomers II', 'Boomers I', 'Post War']}\n",
    "\n",
    "for var in ordinal_var_dict:\n",
    "    ordered_var = pd.api.types.CategoricalDtype(ordered = True,\n",
    "                                                categories = ordinal_var_dict[var])\n",
    "    bike[var] = bike[var].astype(ordered_var)"
   ]
  },
  {
   "cell_type": "code",
   "execution_count": 80,
   "metadata": {},
   "outputs": [
    {
     "data": {
      "image/png": "[encoded data removed]",
      "text/plain": [
       "<matplotlib.figure.Figure at 0x7f010c4d1d30>"
      ]
     },
     "metadata": {
      "needs_background": "light"
     },
     "output_type": "display_data"
    }
   ],
   "source": [
    "# plotting the weekday and age group which are ordered categorical variables\n",
    "\n",
    "fig, ax = plt.subplots(nrows=2, figsize = [8, 12])\n",
    "default_color = sb.color_palette()[0]\n",
    "sb.countplot(data = bike, x = 'start_time_weekday', color = default_color, ax = ax[0])\n",
    "sb.countplot(data = bike, x = 'age_group', color = default_color, ax = ax[1])\n",
    "\n",
    "plt.show()"
   ]
  },
  {
   "cell_type": "markdown",
   "metadata": {},
   "source": [
    "Monday to Friday have high number of users which are generally working days, while bike trips are very low on both Saturday and Sunday (weekends) - period where people mostly stay and relax at home. And we have another visual that shows Millennials, ages (25-40) as the age group with the most bike trips"
   ]
  },
  {
   "cell_type": "code",
   "execution_count": 81,
   "metadata": {},
   "outputs": [
    {
     "data": {
      "text/plain": [
       "count    175194.000000\n",
       "mean          1.049088\n",
       "std           0.681176\n",
       "min           0.000000\n",
       "25%           0.563668\n",
       "50%           0.887658\n",
       "75%           1.379962\n",
       "max          43.139070\n",
       "Name: distance_miles, dtype: float64"
      ]
     },
     "execution_count": 81,
     "metadata": {},
     "output_type": "execute_result"
    }
   ],
   "source": [
    "# trip distance summary\n",
    "bike.distance_miles.describe()"
   ]
  },
  {
   "cell_type": "code",
   "execution_count": 82,
   "metadata": {},
   "outputs": [
    {
     "data": {
      "image/png": "[encoded data removed]",
      "text/plain": [
       "<matplotlib.figure.Figure at 0x7f010c4d1d68>"
      ]
     },
     "metadata": {
      "needs_background": "light"
     },
     "output_type": "display_data"
    }
   ],
   "source": [
    "# now, let's look at the trip distance in miles\n",
    "bins = np.arange(0, 5+0.5, 0.5)\n",
    "\n",
    "plt.hist(data = bike, x = 'distance_miles', bins = bins);\n",
    "\n",
    "plt.title('Bike Trip Distance in Miles')\n",
    "plt.xlabel('Distance (miles)')\n",
    "plt.ylabel('Bike Trip')\n",
    "plt.show()"
   ]
  },
  {
   "cell_type": "markdown",
   "metadata": {},
   "source": [
    "Trips are a mile on average, with users in the 3rd quartile ride about 1.38 miles. This reveals that on average, users go on a short trips, mostly under 2 miles."
   ]
  },
  {
   "cell_type": "code",
   "execution_count": 83,
   "metadata": {},
   "outputs": [
    {
     "data": {
      "image/png": "[encoded data removed]",
      "text/plain": [
       "<matplotlib.figure.Figure at 0x7f01098e0438>"
      ]
     },
     "metadata": {
      "needs_background": "light"
     },
     "output_type": "display_data"
    }
   ],
   "source": [
    "# import necessary library\n",
    "from matplotlib.ticker import EngFormatter\n",
    "\n",
    "\n",
    "plt.figure(figsize = [8,6])\n",
    "# create the plot \n",
    "base_color = sb.color_palette()[0]\n",
    "sb.countplot(data = bike, x = 'member_gender', color = base_color)\n",
    "plt.title(\"Bike Trips vs. Member's Gender\", fontsize=14, y=1.01)\n",
    "plt.ylabel('Bike Trip')\n",
    "plt.xlabel(\" Member Gender\")\n",
    "\n",
    "\n",
    "# add annotations\n",
    "n_points = bike.shape[0]\n",
    "cat_counts = bike['member_gender'].value_counts()\n",
    "locs, labels = plt.xticks() # get the current tick locations and labels\n",
    "\n",
    "# loop through each pair of locations and labels\n",
    "for loc, label in zip(locs, labels):\n",
    "\n",
    "    ## get the text property for the label to get the correct count\n",
    "    count = cat_counts[label.get_text()]\n",
    "    pct_string = '{:0.0f}%'.format(100*count/n_points)\n",
    "\n",
    "    \n",
    "        # print the annotation just below the top of the bar\n",
    "    plt.text(loc, count-8, pct_string, ha = 'center', color = 'black')\n",
    "    \n",
    "plt.gca().yaxis.set_major_formatter(EngFormatter())"
   ]
  },
  {
   "cell_type": "markdown",
   "metadata": {},
   "source": [
    "75% of users are male, 23% are female and 2% are other gender."
   ]
  },
  {
   "cell_type": "code",
   "execution_count": 84,
   "metadata": {},
   "outputs": [
    {
     "data": {
      "text/plain": [
       "count    175194.000000\n",
       "mean         34.193637\n",
       "std          10.113407\n",
       "min          18.000000\n",
       "50%          32.000000\n",
       "99%          64.000000\n",
       "max         119.000000\n",
       "Name: member_age, dtype: float64"
      ]
     },
     "execution_count": 84,
     "metadata": {},
     "output_type": "execute_result"
    }
   ],
   "source": [
    "# member age summary\n",
    "bike.member_age.describe(percentiles = [.99])"
   ]
  },
  {
   "cell_type": "code",
   "execution_count": 85,
   "metadata": {},
   "outputs": [
    {
     "data": {
      "image/png": "[encoded data removed]",
      "text/plain": [
       "<matplotlib.figure.Figure at 0x7f010995ee10>"
      ]
     },
     "metadata": {
      "needs_background": "light"
     },
     "output_type": "display_data"
    }
   ],
   "source": [
    "# plotting age distribution of users\n",
    "bins = np.arange(18, 119+5, 5)\n",
    "\n",
    "plt.hist(data = bike, x = 'member_age', bins = bins);\n",
    "\n",
    "plt.title('Age of Bike Users')\n",
    "plt.xlabel('Age')\n",
    "plt.ylabel('Bike Trip')\n",
    "\n",
    "plt.show()"
   ]
  },
  {
   "cell_type": "markdown",
   "metadata": {},
   "source": [
    "The average age is 34. The distribution shows that users are between  the age of 25 and 40 which classifies them as young adults and working class."
   ]
  },
  {
   "cell_type": "code",
   "execution_count": 86,
   "metadata": {},
   "outputs": [
    {
     "data": {
      "text/plain": [
       "Market St at 10th St                                         3649\n",
       "San Francisco Caltrain Station 2  (Townsend St at 4th St)    3408\n",
       "Berry St at 4th St                                           2954\n",
       "Montgomery St BART Station (Market St at 2nd St)             2711\n",
       "Powell St BART Station (Market St at 4th St)                 2621\n",
       "Name: start_station_name, dtype: int64"
      ]
     },
     "execution_count": 86,
     "metadata": {},
     "output_type": "execute_result"
    }
   ],
   "source": [
    "# create top 5 start station count\n",
    "start_station_count  = bike['start_station_name'].value_counts()\n",
    "start_station_count = start_station_count[:5,]\n",
    "start_station_count"
   ]
  },
  {
   "cell_type": "code",
   "execution_count": 87,
   "metadata": {},
   "outputs": [
    {
     "data": {
      "image/png": "[encoded data removed]",
      "text/plain": [
       "<matplotlib.figure.Figure at 0x7f010995ecc0>"
      ]
     },
     "metadata": {
      "needs_background": "light"
     },
     "output_type": "display_data"
    }
   ],
   "source": [
    "start_station_count.plot('barh', figsize=(15,8), color = 'cornflowerblue', title='Most Popular Start Station').set_xlabel(\"Bike Trip\");"
   ]
  },
  {
   "cell_type": "markdown",
   "metadata": {},
   "source": [
    "Market St is the most popular start station followed by San Francisco Caltrain Station 2."
   ]
  },
  {
   "cell_type": "code",
   "execution_count": 88,
   "metadata": {},
   "outputs": [
    {
     "data": {
      "text/plain": [
       "San Francisco Caltrain Station 2  (Townsend St at 4th St)    4624\n",
       "Market St at 10th St                                         3710\n",
       "Montgomery St BART Station (Market St at 2nd St)             3461\n",
       "San Francisco Ferry Building (Harry Bridges Plaza)           3152\n",
       "San Francisco Caltrain (Townsend St at 4th St)               2872\n",
       "Name: end_station_name, dtype: int64"
      ]
     },
     "execution_count": 88,
     "metadata": {},
     "output_type": "execute_result"
    }
   ],
   "source": [
    "# create top 5 end station\n",
    "end_station_count  = bike['end_station_name'].value_counts()\n",
    "end_station_count = end_station_count[:5,]\n",
    "end_station_count"
   ]
  },
  {
   "cell_type": "code",
   "execution_count": 89,
   "metadata": {},
   "outputs": [
    {
     "data": {
      "image/png": "[encoded data removed]",
      "text/plain": [
       "<matplotlib.figure.Figure at 0x7f01099cc358>"
      ]
     },
     "metadata": {
      "needs_background": "light"
     },
     "output_type": "display_data"
    }
   ],
   "source": [
    "end_station_count.plot('barh', figsize=(15,8), color = 'cornflowerblue', title='Most Popular End Station').set_xlabel(\"Bike Trip\");"
   ]
  },
  {
   "cell_type": "markdown",
   "metadata": {},
   "source": [
    "San Francisco Caltrain Station 2 is observed to overtake Market St as the most popular end station."
   ]
  },
  {
   "cell_type": "markdown",
   "metadata": {},
   "source": [
    "### Discuss the distribution(s) of your variable(s) of interest. Were there any unusual points? Did you need to perform any transformations?\n",
    "\n",
    "\n",
    "It is obvious that bike trips are usually within an hour mark (3600 seconds). This will help to further investigate user's behavior that determine demand of bikes. \n",
    "\n",
    "Bike trip on average is between 4 and 10 minute range, with 75% of trips being under 14 minutes. This suggests that users are taking the bikes on short distances.\n",
    "\n",
    "\n",
    "Users most common start time hour is 8AM and most common end time hour is 5PM.  This reveals that users are more of working class that leave for work in the morning and come back home in the evening. Another interesting fact is that users in this category ride less than an hour and that is why both start time and end time peak at the same hour mark.\n",
    "\n",
    "\n",
    "Monday to Friday have high number of users which are generally working days, while bike trips are very low on both Saturday and Sunday (weekends) - period where people mostly stay and relax at home. And we have another visual that shows Millennials, ages (25-40) as the age group with the most bike trips\n",
    "\n",
    "75% of users are male, 23% are female and 2% are other gender.\n",
    "\n",
    "The average age is 34. The distribution shows that users are between the age of 25 and 40 which classifies them as young adults and working class.\n",
    "\n",
    "\n",
    "Market St is the most popular start station followed by San Francisco Caltrain Station 2. San Francisco Caltrain Station 2 is observed to overtake Market St as the most popular end station.\n",
    "\n",
    "\n",
    "The following variables duration, distance and most especially, age have some outliers. In order to allow the plots to show the trends clearly, member year above 1900 were only selected from our dataset. The outliers could be caused by incorrect data entry.\n",
    "\n",
    "\n",
    "### Of the features you investigated, were there any unusual distributions? Did you perform any operations on the data to tidy, adjust, or change the form of the data? If so, why did you do this?\n",
    "\n",
    "The duration variable has a large range. Hence plot on a log scale helped to explore the data. Under the log transformation, the distribution is observed as unimodal.\n"
   ]
  },
  {
   "cell_type": "markdown",
   "metadata": {},
   "source": [
    "## Bivariate Exploration\n",
    "\n",
    "In this section, I investigate relationships between pairs of variables in the\n",
    "data."
   ]
  },
  {
   "cell_type": "code",
   "execution_count": 90,
   "metadata": {},
   "outputs": [],
   "source": [
    "# create variable groups \n",
    "numeric_vars = ['duration_sec', 'duration_min', 'member_age', 'start_time_hour', 'end_time_hour', 'distance_miles']\n",
    "categoric_vars = ['member_gender', 'user_type', 'bike_share_for_all_trip', 'start_time_weekday', 'end_time_weekday']"
   ]
  },
  {
   "cell_type": "code",
   "execution_count": 91,
   "metadata": {},
   "outputs": [
    {
     "data": {
      "image/png": "[encoded data removed]",
      "text/plain": [
       "<matplotlib.figure.Figure at 0x7f0109c50cf8>"
      ]
     },
     "metadata": {
      "needs_background": "light"
     },
     "output_type": "display_data"
    }
   ],
   "source": [
    "# correlation plot\n",
    "plt.figure(figsize = [8, 5])\n",
    "sb.heatmap(bike[numeric_vars].corr(), annot = True, fmt = '.3f',\n",
    "           cmap = 'vlag_r', center = 0)\n",
    "plt.show()"
   ]
  },
  {
   "cell_type": "code",
   "execution_count": 92,
   "metadata": {},
   "outputs": [
    {
     "data": {
      "image/png": "[encoded data removed]",
      "text/plain": [
       "<matplotlib.figure.Figure at 0x7f01099dc748>"
      ]
     },
     "metadata": {
      "needs_background": "light"
     },
     "output_type": "display_data"
    }
   ],
   "source": [
    "# plot matrix: sample 500 bike trips so that plots are clearer and\n",
    "# they render faster\n",
    "samples = np.random.choice(bike.shape[0], 500, replace = False)\n",
    "trip_samp = bike.loc[samples,:]\n",
    "\n",
    "g = sb.PairGrid(data = trip_samp, vars = numeric_vars)\n",
    "g = g.map_diag(plt.hist, bins = 20);\n",
    "g.map_offdiag(plt.scatter);"
   ]
  },
  {
   "cell_type": "markdown",
   "metadata": {},
   "source": [
    "\n",
    "\n",
    "As expected, start time and end time are highly correlated with one another and duration in minutes with duration in seconds. Since time is the measure of bike trip duration. "
   ]
  },
  {
   "cell_type": "code",
   "execution_count": 93,
   "metadata": {},
   "outputs": [
    {
     "data": {
      "text/plain": [
       "<matplotlib.figure.Figure at 0x7f01090ba2b0>"
      ]
     },
     "metadata": {},
     "output_type": "display_data"
    },
    {
     "data": {
      "image/png": "[encoded data removed]",
      "text/plain": [
       "<matplotlib.figure.Figure at 0x7f010907f4a8>"
      ]
     },
     "metadata": {
      "needs_background": "light"
     },
     "output_type": "display_data"
    }
   ],
   "source": [
    "# plot matrix of numeric features against categorical features.\n",
    "\n",
    "samples = np.random.choice(bike.shape[0], 500 , replace = False)\n",
    "trip_samp = bike.loc[samples,:]\n",
    "\n",
    "def boxgrid(x, y, **kwargs):\n",
    "    \"\"\" Quick hack for creating box plots with seaborn's PairGrid. \"\"\"\n",
    "    default_color = sb.color_palette()[0]\n",
    "    sb.boxplot(x, y, color = default_color)\n",
    "\n",
    "plt.figure(figsize = [8, 12])\n",
    "g = sb.PairGrid(data = trip_samp, y_vars = ['duration_min', 'member_age', 'start_time_hour', 'distance_miles'], x_vars = categoric_vars, size = 5, aspect = 1.5)\n",
    "g.map(boxgrid)\n",
    "\n",
    "plt.show()"
   ]
  },
  {
   "cell_type": "markdown",
   "metadata": {},
   "source": [
    "From the box plots, we can see the distributions of the trip distance, duration and member age, across different categorical variables. Averagely, the trip duration of subscribers are less than that of customers. As expected, subcribers will most likely use the bike share for their daily commute compared to customers who rent bikes for a single trip.\n"
   ]
  },
  {
   "cell_type": "code",
   "execution_count": 94,
   "metadata": {},
   "outputs": [
    {
     "data": {
      "image/png": "[encoded data removed]",
      "text/plain": [
       "<matplotlib.figure.Figure at 0x7f0102abe278>"
      ]
     },
     "metadata": {
      "needs_background": "light"
     },
     "output_type": "display_data"
    }
   ],
   "source": [
    "# plot the relationship between categorical variables\n",
    "fig, ((ax1, ax2), (ax3, ax4)) = plt.subplots(nrows=2, ncols=2, figsize = [15,10])\n",
    "plt.suptitle('Relationships in Users and their Behavior', fontsize=14, y=1.025)\n",
    "\n",
    "# subplot 1: weekday vs user type\n",
    "plt.subplot(2, 2, 1)\n",
    "sb.countplot(data = bike, x = 'start_time_weekday', hue = 'user_type', palette = 'Blues')\n",
    "plt.ylabel('Bike Trip')\n",
    "\n",
    "# subplot 2: weekday vs. member gender\n",
    "plt.subplot(2, 2, 2)\n",
    "sb.countplot(data = bike, x = 'start_time_weekday', hue = 'member_gender', palette = 'Blues')\n",
    "plt.ylabel('Bike Trip')\n",
    "\n",
    "# subplot 3: weekday vs. , bike share for all trip \n",
    "plt.subplot(2, 2, 3)\n",
    "sb.countplot(data = bike, x = 'start_time_weekday', hue = 'bike_share_for_all_trip', palette = 'Blues')\n",
    "plt.ylabel('Bike Trip')\n",
    "\n",
    "\n",
    "# subplot 3: weekday vs. age group \n",
    "plt.subplot(2, 2, 4)\n",
    "sb.countplot(data = bike, x = 'start_time_weekday', hue = 'age_group', palette = 'Greens_r') \n",
    "plt.ylabel('Bike Trip')\n",
    "\n",
    "plt.tight_layout()"
   ]
  },
  {
   "cell_type": "markdown",
   "metadata": {},
   "source": [
    "The trip number of subscribers is much higher than customers.\n",
    "\n",
    "Male complete 2 times or more trips as female.\n",
    "\n",
    "Bike share for all trip by users are very low compare to users that do not use bike share for all trip\n",
    "\n",
    "Users between the ages (25-40) called Millennials use bike share the most in all weekdays"
   ]
  },
  {
   "cell_type": "code",
   "execution_count": 95,
   "metadata": {},
   "outputs": [
    {
     "data": {
      "image/png": "[encoded data removed]",
      "text/plain": [
       "<matplotlib.figure.Figure at 0x7f0109680a90>"
      ]
     },
     "metadata": {
      "needs_background": "light"
     },
     "output_type": "display_data"
    }
   ],
   "source": [
    "# plot the relationship between categorical variables\n",
    "fig, ((ax1, ax2), (ax3, ax4)) = plt.subplots(nrows=2, ncols=2,figsize = [14,8])\n",
    "base_color = sb.color_palette()[0]\n",
    "plt.suptitle('Relationship in users and their Behavior', fontsize=14, y=1.025)\n",
    "\n",
    "# member gender vs. age group\n",
    "ax1 = plt.subplot(2,2,1)\n",
    "ax1=sb.countplot(data = bike, x = 'member_gender', hue = 'age_group', palette = 'Blues') \n",
    "ax1= plt.xlabel(\"Gender\")\n",
    "ax1= plt.ylabel('Bike Trip')\n",
    "\n",
    "# age group vs. member gender\n",
    "ax2 = plt.subplot(2,2,2)\n",
    "ax2=sb.countplot(data = bike, x = 'age_group', hue = 'member_gender', palette = 'Greens')\n",
    "ax2= plt.xlabel(\"Generaton\")\n",
    "ax2= plt.ylabel('Bike Trip')\n",
    "\n",
    "# user type vs. member gender\n",
    "ax3 = plt.subplot(2,2,3)\n",
    "ax3=sb.countplot(data = bike, x = 'user_type', hue = 'member_gender', palette = 'Blues') \n",
    "ax3= plt.xlabel('User Type')\n",
    "ax3= plt.ylabel('Bike Trip')\n",
    "\n",
    "# member gender vs. user type\n",
    "ax4 = plt.subplot(2,2,4)\n",
    "ax4=sb.countplot(data = bike, x = 'member_gender' , hue = 'user_type', palette = 'Greens')\n",
    "ax4= plt.xlabel(\"Gender\")\n",
    "ax4= plt.ylabel('Bike Trip')\n",
    "\n",
    "plt.tight_layout()"
   ]
  },
  {
   "cell_type": "markdown",
   "metadata": {},
   "source": [
    "There are more males than females and other genders. Both male and female gender have more users in the age group called Millennials\n",
    "\n",
    "Males dominate more in all the age groups\n",
    "\n",
    "Males are the highest gender of users both as customers and as subscribers\n",
    "\n",
    "Subcribers in male are more than in female, followed by other genders"
   ]
  },
  {
   "cell_type": "markdown",
   "metadata": {},
   "source": [
    "### Talk about some of the relationships you observed in this part of the investigation. How did the feature(s) of interest vary with other features in the dataset?\n",
    "\n",
    "The relationships in user type with their gender and their behavior show that there are more subcribers who use bike share system for commute on all working days and interestingly there are more males than females as subcribers and also as customers. Another interesting fact is that users fall within the age group called MIllennials (25-40) which is also the age bracket for young adults and working class. Hence work days (Monday-Friday) have higher demand for bike trips, while the demand is significantly low on weekends (Saturday and Sunday) \n",
    "\n",
    "### Did you observe any interesting relationships between the other features (not the main feature(s) of interest)?\n",
    "\n",
    "There is a difference in the trip duration between customers and subscribers. Customers trips are usually longer than for subscribers. Subscribers use the system mainly for commute purposes so they prefer quick, short rides to and from work."
   ]
  },
  {
   "cell_type": "markdown",
   "metadata": {},
   "source": [
    "## Multivariate Exploration\n"
   ]
  },
  {
   "cell_type": "markdown",
   "metadata": {},
   "source": [
    "This section further analyzes the impact of user type and age group on the relationship between duration and distance.\n",
    "\n",
    "I'll look specifically more into user type and age group. Since there's little effect of gender on both duration and distance, analysing member's gender in this analysis is not considered."
   ]
  },
  {
   "cell_type": "code",
   "execution_count": 96,
   "metadata": {},
   "outputs": [],
   "source": [
    "# define heatmap function \n",
    "def hist2dgrid(x, y, **kwargs):\n",
    "    \"\"\" Quick hack for creating heat maps with seaborn's PairGrid.\"\"\"\n",
    "    palette = kwargs.pop('color')\n",
    "    \n",
    "    bin_size_x = 250 \n",
    "    bin_size_y = 0.4\n",
    "    bins_x = np.arange(0, 5000+bin_size_x, bin_size_x)\n",
    "    bins_y = np.arange(0, 7+bin_size_y, bin_size_y)\n",
    "    \n",
    "    plt.hist2d(x, y, bins = [bins_x, bins_y], cmap = palette, cmin = 0.5)"
   ]
  },
  {
   "cell_type": "code",
   "execution_count": 97,
   "metadata": {},
   "outputs": [
    {
     "data": {
      "image/png": "[encoded data removed]",
      "text/plain": [
       "<matplotlib.figure.Figure at 0x7f0109463550>"
      ]
     },
     "metadata": {
      "needs_background": "light"
     },
     "output_type": "display_data"
    }
   ],
   "source": [
    "# create faceted heat maps on user_type\n",
    "g = sb.FacetGrid(data = bike, col = 'user_type', col_wrap = 3, size = 4)\n",
    "\n",
    "g.map(hist2dgrid, 'duration_sec', 'distance_miles', color = 'inferno_r')\n",
    "g.set_xlabels('Duration (sec)')\n",
    "g.set_ylabels('Distance (miles)')\n",
    "\n",
    "plt.show()"
   ]
  },
  {
   "cell_type": "markdown",
   "metadata": {},
   "source": [
    "From the faceted heat maps above, It is observed that there is an effect of user type on the relationship between usage duration in seconds and distance in miles.\n",
    "\n",
    "For user type, customers tend to go on a long trip, that is, they use bike share for long durations and distances as compared to subscribers, whose trips are in short duration and distance. The more focused aspect in subscribers also revealed that subscribers are looking for a consistent experience, which is daily commute as compared to customers which use bike share for different purposes."
   ]
  },
  {
   "cell_type": "markdown",
   "metadata": {},
   "source": [
    "Now, let's look at the categorical variable, age group to the effect it has on both duration and distance."
   ]
  },
  {
   "cell_type": "code",
   "execution_count": 98,
   "metadata": {},
   "outputs": [
    {
     "data": {
      "image/png": "[encoded data removed]",
      "text/plain": [
       "<matplotlib.figure.Figure at 0x7f0108f55a20>"
      ]
     },
     "metadata": {
      "needs_background": "light"
     },
     "output_type": "display_data"
    }
   ],
   "source": [
    "# create faceted heat maps on age_group\n",
    "g = sb.FacetGrid(data = bike, col = 'age_group', col_wrap = 3, size = 4)\n",
    "\n",
    "g.map(hist2dgrid, 'duration_sec', 'distance_miles', color = 'inferno_r')\n",
    "g.set_xlabels('Duration (sec)')\n",
    "g.set_ylabels('Distance (miles)')\n",
    "\n",
    "plt.show()"
   ]
  },
  {
   "cell_type": "markdown",
   "metadata": {},
   "source": [
    "In the faceted heat maps, there is little effectiveness on the relationship of age group against duration and distance of bike trips. As the age group increases, the 'cloud' of points spreads across the plot. \n",
    "\n",
    "Perhaps, focussing on the popular age group, which is Millennials in this case, to see the differences might provide a better summary."
   ]
  },
  {
   "cell_type": "code",
   "execution_count": 99,
   "metadata": {},
   "outputs": [],
   "source": [
    "# select dataset for member aged between 25 to 40\n",
    "df_flag = ((bike['member_age'] >= 25) & (bike['member_age'] <= 40))\n",
    "df_plot = bike.loc[df_flag,:]"
   ]
  },
  {
   "cell_type": "code",
   "execution_count": 100,
   "metadata": {},
   "outputs": [
    {
     "data": {
      "image/png": "[encoded data removed]",
      "text/plain": [
       "<matplotlib.figure.Figure at 0x7f01099f8e10>"
      ]
     },
     "metadata": {
      "needs_background": "light"
     },
     "output_type": "display_data"
    }
   ],
   "source": [
    "# setting the figure size\n",
    "fig = plt.figure(figsize = [8,6])\n",
    "# point plot of age against duration with user_type\n",
    "ax = sb.pointplot(data = df_plot, x = 'member_age', y = 'duration_sec', hue = 'user_type',\n",
    "                  palette = 'Blues', linestyles = '', dodge = 0.4)\n",
    "plt.title('Duration of Trip across User Type and Age')\n",
    "plt.ylabel('Duration (sec)')\n",
    "plt.xlabel('Age')\n",
    "ax.set_yticklabels([],minor = True)\n",
    "plt.show();"
   ]
  },
  {
   "cell_type": "code",
   "execution_count": 101,
   "metadata": {},
   "outputs": [
    {
     "data": {
      "image/png": "[encoded data removed]",
      "text/plain": [
       "<matplotlib.figure.Figure at 0x7f0109552240>"
      ]
     },
     "metadata": {
      "needs_background": "light"
     },
     "output_type": "display_data"
    }
   ],
   "source": [
    "# set the figure size\n",
    "fig = plt.figure(figsize = [8,6])\n",
    "# point plot of age against duration with user_type\n",
    "ax = sb.pointplot(data = df_plot, x = 'member_age', y = 'distance_miles', hue = 'user_type',\n",
    "                  palette = 'Blues', linestyles = '', dodge = 0.4)\n",
    "plt.title('Distance of Trip across User Type and Age')\n",
    "plt.ylabel('Distance (miles)')\n",
    "plt.xlabel('Age')\n",
    "ax.set_yticklabels([],minor = True)\n",
    "plt.show();"
   ]
  },
  {
   "cell_type": "markdown",
   "metadata": {},
   "source": [
    "Here, age does not have any effect in predicting demand using bike duration of trip. Instead, there is a significant difference in duration of trip between subscriber and customer. Subscriber generally uses bike share for short distance trip and short duration trip unlike Customer that uses bike share for long distance trip and duration trip."
   ]
  },
  {
   "cell_type": "markdown",
   "metadata": {},
   "source": [
    "Comparing user type across weekdays and duration of trips."
   ]
  },
  {
   "cell_type": "code",
   "execution_count": 102,
   "metadata": {},
   "outputs": [
    {
     "data": {
      "image/png": "[encoded data removed]",
      "text/plain": [
       "<matplotlib.figure.Figure at 0x7f0109c8bda0>"
      ]
     },
     "metadata": {
      "needs_background": "light"
     },
     "output_type": "display_data"
    }
   ],
   "source": [
    "# plot the interactions between categorical variables and numeric variable\n",
    "plt.figure(figsize = [16, 4])\n",
    "plt.suptitle(\"Weekday vs. Duration and User Type\", fontsize = 14)\n",
    "\n",
    "ax1=plt.subplot(1,2, 1)\n",
    "ax1=sb.pointplot(data = bike, x= 'start_time_weekday', y = 'duration_sec', \n",
    "                 hue = 'user_type', palette = 'Blues', linestyles = '')\n",
    "ax1=plt.ylabel('Duration (seconds)')\n",
    "ax1=plt.title('Weekday vs. Duration of Trip')\n",
    "ax1=plt.yticks([400, 600, 800, 1000, 1200, 1400, 1600, 1800]) # 30 minutes\n",
    "ax1=plt.legend(title='User Type')\n",
    "\n",
    "ax2=plt.subplot(1, 2, 2)\n",
    "ax2=sb.pointplot(data = bike, x= 'start_time_weekday', y = 'duration_sec', \n",
    "                 hue = 'user_type', palette = 'Blues', linestyles = '')\n",
    "ax2=plt.ylabel('Duration (seconds)')\n",
    "ax2=plt.title('Weekday vs. Duration of Trip')\n",
    "ax2=plt.yticks([700,1.3e3, 1.9e3, 2.5e3, 3.1e3, 3.6e3, 4e3])\n",
    "ax2=plt.legend(title='User Type')\n",
    "\n",
    "plt.tight_layout()"
   ]
  },
  {
   "cell_type": "markdown",
   "metadata": {},
   "source": [
    "As observed in the previous section, Customers trip duration is relatively high compare to subcribers trip duration. But more interestingly, there is a steep jump or increase in both customers duration and subcribers duration on weekends (Saturday and Sunday). "
   ]
  },
  {
   "cell_type": "markdown",
   "metadata": {},
   "source": [
    "Next, comparing age group of users across weekdays and duration of trips."
   ]
  },
  {
   "cell_type": "code",
   "execution_count": 103,
   "metadata": {},
   "outputs": [
    {
     "data": {
      "image/png": "[encoded data removed]",
      "text/plain": [
       "<matplotlib.figure.Figure at 0x7f0109266668>"
      ]
     },
     "metadata": {
      "needs_background": "light"
     },
     "output_type": "display_data"
    }
   ],
   "source": [
    "# plot the interactions between categorical variables and numeric variable\n",
    "plt.figure(figsize = [16, 4])\n",
    "plt.suptitle(\"Weekday vs. Duration and Member's age\", fontsize = 14)\n",
    "\n",
    "ax1=plt.subplot(1,2, 1)\n",
    "ax1=sb.pointplot(data = bike, x= 'start_time_weekday', y = 'duration_sec', \n",
    "                 hue = 'age_group', palette = 'Blues', linestyles = '')\n",
    "ax1=plt.ylabel('Duration (seconds)')\n",
    "ax1=plt.title('Weekday vs. Duration of Trip')\n",
    "ax1=plt.yticks([400, 600, 800, 1000, 1200, 1400, 1600, 1800]) # 30 minutes\n",
    "ax1=plt.legend(title='Generation')\n",
    "\n",
    "ax2=plt.subplot(1, 2, 2)\n",
    "ax2=sb.pointplot(data = bike, x= 'start_time_weekday', y = 'duration_sec', \n",
    "                 hue = 'age_group', palette = 'Blues', linestyles = '')\n",
    "ax2=plt.ylabel('Duration (seconds)')\n",
    "ax2=plt.title('Weekday vs. Duration of Trip')\n",
    "ax2=plt.yticks([700,1.3e3, 1.9e3, 2.5e3, 3.1e3, 3.6e3, 4e3])\n",
    "ax2=plt.legend(title='Generation')\n",
    "\n",
    "plt.tight_layout()"
   ]
  },
  {
   "cell_type": "markdown",
   "metadata": {},
   "source": [
    "There are more short time trips on working days (Mon-Fri). The duration of trip of age range Gen Z, Millennials and Gen X is more stable than the older range. These have higher variation. "
   ]
  },
  {
   "cell_type": "markdown",
   "metadata": {},
   "source": [
    "### Talk about some of the relationships you observed in this part of the investigation. Were there features that strengthened each other in terms of looking at your feature(s) of interest?\n",
    "\n",
    "Customers tend to go on a long distance and long duration trip while Subcribers use bike for both short distance and short duration trip. This reveals that Subcribers are looking for a consistent experience as they use bike for their daily commute.\n",
    "\n",
    "Interestingly, there is a steep jump or increase in both customers duration and subcribers duration on weekends (Saturday and Sunday).\n",
    "\n",
    "There are more short time trips on working days (Mon-Fri). The duration of trip of age range Gen Z, Millennials and Gen X is more stable than the older range.\n",
    "\n",
    "\n",
    "### Were there any interesting or surprising interactions between features?\n",
    "\n",
    "There were interesting and surprising interactions between features. For example, despite having low demand of bikes during weekends, users averagely go on a long trip for a long period of time which makes sense because biking is one of the great way of doing workout to keep the body healthy.\n"
   ]
  },
  {
   "cell_type": "markdown",
   "metadata": {},
   "source": [
    "### References\n",
    "Create a boolean series https://knowledge.udacity.com/questions/525039\n",
    "\n",
    "Converting to numeric https://stackoverflow.com/questions/56391169/pandas-astypeint-applied-to-float-column-returns-negative-numbers\n",
    "\n",
    "Extracting month as month name https://stackoverflow.com/questions/37625334/python-pandas-convert-month-int-to-month-name\n",
    "\n",
    "Extracting weekday as day name https://stackoverflow.com/questions/30222533/create-a-day-of-week-column-in-a-pandas-dataframe-using-python\n",
    "\n",
    "Calculating distance with Haversine formular https://knowledge.udacity.com/questions/282090\n",
    "\n",
    "Knowing the right plot https://www.datapine.com/blog/how-to-choose-the-right-data-visualization-types/"
   ]
  }
 ],
 "metadata": {
  "kernelspec": {
   "display_name": "Python 3",
   "language": "python",
   "name": "python3"
  },
  "language_info": {
   "codemirror_mode": {
    "name": "ipython",
    "version": 3
   },
   "file_extension": ".py",
   "mimetype": "text/x-python",
   "name": "python",
   "nbconvert_exporter": "python",
   "pygments_lexer": "ipython3",
   "version": "3.6.3"
  }
 },
 "nbformat": 4,
 "nbformat_minor": 2
}
